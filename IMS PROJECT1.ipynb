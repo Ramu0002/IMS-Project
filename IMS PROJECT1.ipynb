{
 "cells": [
  {
   "cell_type": "code",
   "execution_count": 1,
   "id": "1a84a2f4",
   "metadata": {},
   "outputs": [],
   "source": [
    "items = { 1160 : {\"name\" : \"Mars\" , \"Price\" : 20 , \"quantity\" : 100 , \"MD\" : \"12/8/2021\" , \"ED\" : \"12/10/2021\"},\n",
    "          1161 : {\"name\" : \"Cadbory\" , \"Price\" : 10 , \"quantity\" : 100 , \"MD\" : \"12/8/2021\" , \"ED\" : \"8/10/2021\"} , \n",
    "          1162 : {\"name\" : \"KiKat\" , \"Price\" : 15 , \"quantity\" : 100 , \"MD\" : \"12/8/2021\" , \"ED\" : \"12/10/2021\"},\n",
    "          1163 : {\"name\" : \"FerreroRocher\" , \"Price\" : 100 , \"quantity\" : 100 , \"MD\" : \"12/8/2021\" , \"ED\" : \"12/11/2021\"},\n",
    "          1164 : {\"name\" : \"Galaxy\" , \"Price\" : 20 , \"quantity\" : 100 , \"MD\" :\"12/8/2021\" , \"ED\" : \"12/10/2021\"},\n",
    "          1165 : {\"name\" : \"Patachi\" , \"Price\" : 30 , \"quantity\" : 100 , \"MD\" :\"12/8/2021\" , \"ED\" : \"12/10/2021\"},\n",
    "          1166 : {\"name\" : \"Ghirardelli\" , \"Price\" : 30 , \"quantity\" : 100 , \"MD\" : \"12/8/2021\" , \"ED\" :\"12/10/2021\"},\n",
    "          1167 : {\"name\" : \"Lindt&Sprungli\" , \"Price\" : 25 , \"quantity\" : 100 , \"MD\" : \"12/8/2021\" , \"ED\" : \"12/10/2021\"},\n",
    "          1168 : {\"name\" : \"Guylian\" , \"Price\" : 50 , \"quantity\" : 100 , \"MD\" : \"12/8/2021\" , \"ED\" : \"12/10/2021\"},\n",
    "          1169 : {\"name\" : \"Toblerone\" , \"Price\" : 25 , \"quantity\" : 100 , \"MD\" : \"12/8/2021\" , \"ED\" : \"12/10/2021\"},\n",
    "          1170 : {\"name\" : \"MilkyBar\" , \"Price\" : 10 , \"quantity\" : 100 , \"MD\" : \"12/8/2021\" , \"ED\" : \"12/9/2021\"},\n",
    "          1171 : {\"name\" : \"GoodDay\" , \"Price\" : 20 , \"quantity\" : 100 , \"MD\" : \"12/8/2021\" , \"ED\" : \"12/12/2021\"},\n",
    "          1172 : {\"name\" : \"MarieGold\" , \"Price\" : 20 , \"quantity\" : 100 , \"MD\" :\"12/8/2021\" , \"ED\" : \"12/12/2021\"},\n",
    "          1173 : {\"name\" : \"ParleG\" , \"Price\" : 10 , \"quantity\" : 100 , \"MD\" : \"12/8/2021\" , \"ED\" : \"12/12/2021\"},\n",
    "          1174 : {\"name\" : \"DarkFantacy\" , \"Price\" : 30 , \"quantity\" : 100 , \"MD\" : \"12/8/2021\" , \"ED\" : \"12/12/2021\"},\n",
    "          1175 : {\"name\" : \"oreo\" , \"Price\" : 20 , \"quantity\" : 100 , \"MD\" : \"12/8/2021\", \"ED\" : \"12/12/2021\"},\n",
    "          1176 : {\"name\" : \"Burbon\" , \"Price\" : 20 , \"quantity\" : 100 , \"MD\" : \"12/8/2021\", \"ED\" : \"12/10/2021\"},\n",
    "          1177 : {\"name\" : \"twentyTwenty\" , \"Price\" : 20 , \"quantity\" : 100 , \"MD\" :\"12/8/2021\" , \"ED\" : \"12/10/2021\"},\n",
    "          1178 : {\"name\" : \"FiftyFifty\" , \"Price\" : 20 , \"quantity\" : 100 , \"MD\" :\"12/8/2021\", \"ED\" : \"12/10/2021\"},\n",
    "          1179 : {\"name\" : \"Doodh\" , \"Price\" : 20 , \"quantity\" : 100 , \"MD\" :\"12/8/2021\" , \"ED\" : \"12/10/2021\"},\n",
    "          1180 : {\"name\" : \"Digestive\" , \"Price\" : 20 , \"quantity\" : 100 , \"MD\" :\"12/8/2021\", \"ED\" : \"12/11/2021\"},\n",
    "          1181 : {\"name\" : \"Britania\" , \"Price\" : 20 , \"quantity\" : 100 , \"MD\" : \"12/8/2021\" , \"ED\" : \"12/12/2021\"},\n",
    "          1183 : {\"name\" : \"Lays\" , \"Price\" : 10 , \"quantity\" : 100 , \"MD\" : \"12/8/2021\" , \"ED\" : \"12/12/2021\"},\n",
    "          1184 : {\"name\" : \"Lays\" , \"Price\" : 5 , \"quantity\" : 100 , \"MD\" : \"12/8/2021\" , \"ED\" : \"12/12/2021\"},\n",
    "          1185 : {\"name\" : \"KurKure\" , \"Price\" : 10 , \"quantity\" : 100 , \"MD\" :\"12/8/2021\" , \"ED\" : \"14/10/2021\"},\n",
    "          1186 : {\"name\" : \"KurKure\" , \"Price\" : 5 , \"quantity\" : 100 , \"MD\" : \"12/8/2021\", \"ED\" : \"12/10/2021\"},\n",
    "          1187 : {\"name\" : \"Yumitos\" , \"Price\" : 10 , \"quantity\" : 100 , \"MD\" :\"12/8/2021\" , \"ED\" : \"10/10/2021\"},\n",
    "          1188 : {\"name\" : \"Chitoos\" , \"Price\" : 10 , \"quantity\" : 100 , \"MD\" :\"12/8/2021\", \"ED\" : \"30/10/2021\"},\n",
    "          1189 : {\"name\" : \"Chitoos\" , \"Price\" : 20 , \"quantity\" : 100 , \"MD\" : \"12/8/2021\", \"ED\" : \"10/10/2021\"},\n",
    "          1190 : {\"name\" : \"Yummy\" , \"Price\" : 20 , \"quantity\" : 100 , \"MD\" :\"12/8/2021\" , \"ED\" : \"20/10/2021\"},\n",
    "    \n",
    "}"
   ]
  },
  {
   "cell_type": "code",
   "execution_count": null,
   "id": "6761300d",
   "metadata": {},
   "outputs": [],
   "source": []
  },
  {
   "cell_type": "code",
   "execution_count": 2,
   "id": "acb90b9e",
   "metadata": {},
   "outputs": [],
   "source": [
    "import json\n"
   ]
  },
  {
   "cell_type": "code",
   "execution_count": 3,
   "id": "2b83500e",
   "metadata": {},
   "outputs": [],
   "source": [
    "js = json.dumps(items)"
   ]
  },
  {
   "cell_type": "code",
   "execution_count": 4,
   "id": "a84a4fbc",
   "metadata": {},
   "outputs": [
    {
     "data": {
      "text/plain": [
       "'{\"1160\": {\"name\": \"Mars\", \"Price\": 20, \"quantity\": 100, \"MD\": \"12/8/2021\", \"ED\": \"12/10/2021\"}, \"1161\": {\"name\": \"Cadbory\", \"Price\": 10, \"quantity\": 100, \"MD\": \"12/8/2021\", \"ED\": \"8/10/2021\"}, \"1162\": {\"name\": \"KiKat\", \"Price\": 15, \"quantity\": 100, \"MD\": \"12/8/2021\", \"ED\": \"12/10/2021\"}, \"1163\": {\"name\": \"FerreroRocher\", \"Price\": 100, \"quantity\": 100, \"MD\": \"12/8/2021\", \"ED\": \"12/11/2021\"}, \"1164\": {\"name\": \"Galaxy\", \"Price\": 20, \"quantity\": 100, \"MD\": \"12/8/2021\", \"ED\": \"12/10/2021\"}, \"1165\": {\"name\": \"Patachi\", \"Price\": 30, \"quantity\": 100, \"MD\": \"12/8/2021\", \"ED\": \"12/10/2021\"}, \"1166\": {\"name\": \"Ghirardelli\", \"Price\": 30, \"quantity\": 100, \"MD\": \"12/8/2021\", \"ED\": \"12/10/2021\"}, \"1167\": {\"name\": \"Lindt&Sprungli\", \"Price\": 25, \"quantity\": 100, \"MD\": \"12/8/2021\", \"ED\": \"12/10/2021\"}, \"1168\": {\"name\": \"Guylian\", \"Price\": 50, \"quantity\": 100, \"MD\": \"12/8/2021\", \"ED\": \"12/10/2021\"}, \"1169\": {\"name\": \"Toblerone\", \"Price\": 25, \"quantity\": 100, \"MD\": \"12/8/2021\", \"ED\": \"12/10/2021\"}, \"1170\": {\"name\": \"MilkyBar\", \"Price\": 10, \"quantity\": 100, \"MD\": \"12/8/2021\", \"ED\": \"12/9/2021\"}, \"1171\": {\"name\": \"GoodDay\", \"Price\": 20, \"quantity\": 100, \"MD\": \"12/8/2021\", \"ED\": \"12/12/2021\"}, \"1172\": {\"name\": \"MarieGold\", \"Price\": 20, \"quantity\": 100, \"MD\": \"12/8/2021\", \"ED\": \"12/12/2021\"}, \"1173\": {\"name\": \"ParleG\", \"Price\": 10, \"quantity\": 100, \"MD\": \"12/8/2021\", \"ED\": \"12/12/2021\"}, \"1174\": {\"name\": \"DarkFantacy\", \"Price\": 30, \"quantity\": 100, \"MD\": \"12/8/2021\", \"ED\": \"12/12/2021\"}, \"1175\": {\"name\": \"oreo\", \"Price\": 20, \"quantity\": 100, \"MD\": \"12/8/2021\", \"ED\": \"12/12/2021\"}, \"1176\": {\"name\": \"Burbon\", \"Price\": 20, \"quantity\": 100, \"MD\": \"12/8/2021\", \"ED\": \"12/10/2021\"}, \"1177\": {\"name\": \"twentyTwenty\", \"Price\": 20, \"quantity\": 100, \"MD\": \"12/8/2021\", \"ED\": \"12/10/2021\"}, \"1178\": {\"name\": \"FiftyFifty\", \"Price\": 20, \"quantity\": 100, \"MD\": \"12/8/2021\", \"ED\": \"12/10/2021\"}, \"1179\": {\"name\": \"Doodh\", \"Price\": 20, \"quantity\": 100, \"MD\": \"12/8/2021\", \"ED\": \"12/10/2021\"}, \"1180\": {\"name\": \"Digestive\", \"Price\": 20, \"quantity\": 100, \"MD\": \"12/8/2021\", \"ED\": \"12/11/2021\"}, \"1181\": {\"name\": \"Britania\", \"Price\": 20, \"quantity\": 100, \"MD\": \"12/8/2021\", \"ED\": \"12/12/2021\"}, \"1183\": {\"name\": \"Lays\", \"Price\": 10, \"quantity\": 100, \"MD\": \"12/8/2021\", \"ED\": \"12/12/2021\"}, \"1184\": {\"name\": \"Lays\", \"Price\": 5, \"quantity\": 100, \"MD\": \"12/8/2021\", \"ED\": \"12/12/2021\"}, \"1185\": {\"name\": \"KurKure\", \"Price\": 10, \"quantity\": 100, \"MD\": \"12/8/2021\", \"ED\": \"14/10/2021\"}, \"1186\": {\"name\": \"KurKure\", \"Price\": 5, \"quantity\": 100, \"MD\": \"12/8/2021\", \"ED\": \"12/10/2021\"}, \"1187\": {\"name\": \"Yumitos\", \"Price\": 10, \"quantity\": 100, \"MD\": \"12/8/2021\", \"ED\": \"10/10/2021\"}, \"1188\": {\"name\": \"Chitoos\", \"Price\": 10, \"quantity\": 100, \"MD\": \"12/8/2021\", \"ED\": \"30/10/2021\"}, \"1189\": {\"name\": \"Chitoos\", \"Price\": 20, \"quantity\": 100, \"MD\": \"12/8/2021\", \"ED\": \"10/10/2021\"}, \"1190\": {\"name\": \"Yummy\", \"Price\": 20, \"quantity\": 100, \"MD\": \"12/8/2021\", \"ED\": \"20/10/2021\"}}'"
      ]
     },
     "execution_count": 4,
     "metadata": {},
     "output_type": "execute_result"
    }
   ],
   "source": [
    "js"
   ]
  },
  {
   "cell_type": "code",
   "execution_count": 5,
   "id": "ba2143e3",
   "metadata": {},
   "outputs": [
    {
     "data": {
      "text/plain": [
       "str"
      ]
     },
     "execution_count": 5,
     "metadata": {},
     "output_type": "execute_result"
    }
   ],
   "source": [
    "type(js)"
   ]
  },
  {
   "cell_type": "code",
   "execution_count": 6,
   "id": "429c3659",
   "metadata": {},
   "outputs": [
    {
     "data": {
      "text/plain": [
       "dict"
      ]
     },
     "execution_count": 6,
     "metadata": {},
     "output_type": "execute_result"
    }
   ],
   "source": [
    "type(items)"
   ]
  },
  {
   "cell_type": "code",
   "execution_count": 7,
   "id": "18304096",
   "metadata": {},
   "outputs": [],
   "source": [
    "fd = open(\"items.json\" , \"w\")\n",
    "fd.write(js)\n",
    "fd.close()"
   ]
  },
  {
   "cell_type": "code",
   "execution_count": 8,
   "id": "2e3dad5c",
   "metadata": {},
   "outputs": [],
   "source": [
    "fd = open(\"items.json\" , \"r\")\n",
    "txt = fd.read()\n",
    "fd.close()"
   ]
  },
  {
   "cell_type": "code",
   "execution_count": 9,
   "id": "0dfdb6bf",
   "metadata": {},
   "outputs": [
    {
     "data": {
      "text/plain": [
       "'{\"1160\": {\"name\": \"Mars\", \"Price\": 20, \"quantity\": 100, \"MD\": \"12/8/2021\", \"ED\": \"12/10/2021\"}, \"1161\": {\"name\": \"Cadbory\", \"Price\": 10, \"quantity\": 100, \"MD\": \"12/8/2021\", \"ED\": \"8/10/2021\"}, \"1162\": {\"name\": \"KiKat\", \"Price\": 15, \"quantity\": 100, \"MD\": \"12/8/2021\", \"ED\": \"12/10/2021\"}, \"1163\": {\"name\": \"FerreroRocher\", \"Price\": 100, \"quantity\": 100, \"MD\": \"12/8/2021\", \"ED\": \"12/11/2021\"}, \"1164\": {\"name\": \"Galaxy\", \"Price\": 20, \"quantity\": 100, \"MD\": \"12/8/2021\", \"ED\": \"12/10/2021\"}, \"1165\": {\"name\": \"Patachi\", \"Price\": 30, \"quantity\": 100, \"MD\": \"12/8/2021\", \"ED\": \"12/10/2021\"}, \"1166\": {\"name\": \"Ghirardelli\", \"Price\": 30, \"quantity\": 100, \"MD\": \"12/8/2021\", \"ED\": \"12/10/2021\"}, \"1167\": {\"name\": \"Lindt&Sprungli\", \"Price\": 25, \"quantity\": 100, \"MD\": \"12/8/2021\", \"ED\": \"12/10/2021\"}, \"1168\": {\"name\": \"Guylian\", \"Price\": 50, \"quantity\": 100, \"MD\": \"12/8/2021\", \"ED\": \"12/10/2021\"}, \"1169\": {\"name\": \"Toblerone\", \"Price\": 25, \"quantity\": 100, \"MD\": \"12/8/2021\", \"ED\": \"12/10/2021\"}, \"1170\": {\"name\": \"MilkyBar\", \"Price\": 10, \"quantity\": 100, \"MD\": \"12/8/2021\", \"ED\": \"12/9/2021\"}, \"1171\": {\"name\": \"GoodDay\", \"Price\": 20, \"quantity\": 100, \"MD\": \"12/8/2021\", \"ED\": \"12/12/2021\"}, \"1172\": {\"name\": \"MarieGold\", \"Price\": 20, \"quantity\": 100, \"MD\": \"12/8/2021\", \"ED\": \"12/12/2021\"}, \"1173\": {\"name\": \"ParleG\", \"Price\": 10, \"quantity\": 100, \"MD\": \"12/8/2021\", \"ED\": \"12/12/2021\"}, \"1174\": {\"name\": \"DarkFantacy\", \"Price\": 30, \"quantity\": 100, \"MD\": \"12/8/2021\", \"ED\": \"12/12/2021\"}, \"1175\": {\"name\": \"oreo\", \"Price\": 20, \"quantity\": 100, \"MD\": \"12/8/2021\", \"ED\": \"12/12/2021\"}, \"1176\": {\"name\": \"Burbon\", \"Price\": 20, \"quantity\": 100, \"MD\": \"12/8/2021\", \"ED\": \"12/10/2021\"}, \"1177\": {\"name\": \"twentyTwenty\", \"Price\": 20, \"quantity\": 100, \"MD\": \"12/8/2021\", \"ED\": \"12/10/2021\"}, \"1178\": {\"name\": \"FiftyFifty\", \"Price\": 20, \"quantity\": 100, \"MD\": \"12/8/2021\", \"ED\": \"12/10/2021\"}, \"1179\": {\"name\": \"Doodh\", \"Price\": 20, \"quantity\": 100, \"MD\": \"12/8/2021\", \"ED\": \"12/10/2021\"}, \"1180\": {\"name\": \"Digestive\", \"Price\": 20, \"quantity\": 100, \"MD\": \"12/8/2021\", \"ED\": \"12/11/2021\"}, \"1181\": {\"name\": \"Britania\", \"Price\": 20, \"quantity\": 100, \"MD\": \"12/8/2021\", \"ED\": \"12/12/2021\"}, \"1183\": {\"name\": \"Lays\", \"Price\": 10, \"quantity\": 100, \"MD\": \"12/8/2021\", \"ED\": \"12/12/2021\"}, \"1184\": {\"name\": \"Lays\", \"Price\": 5, \"quantity\": 100, \"MD\": \"12/8/2021\", \"ED\": \"12/12/2021\"}, \"1185\": {\"name\": \"KurKure\", \"Price\": 10, \"quantity\": 100, \"MD\": \"12/8/2021\", \"ED\": \"14/10/2021\"}, \"1186\": {\"name\": \"KurKure\", \"Price\": 5, \"quantity\": 100, \"MD\": \"12/8/2021\", \"ED\": \"12/10/2021\"}, \"1187\": {\"name\": \"Yumitos\", \"Price\": 10, \"quantity\": 100, \"MD\": \"12/8/2021\", \"ED\": \"10/10/2021\"}, \"1188\": {\"name\": \"Chitoos\", \"Price\": 10, \"quantity\": 100, \"MD\": \"12/8/2021\", \"ED\": \"30/10/2021\"}, \"1189\": {\"name\": \"Chitoos\", \"Price\": 20, \"quantity\": 100, \"MD\": \"12/8/2021\", \"ED\": \"10/10/2021\"}, \"1190\": {\"name\": \"Yummy\", \"Price\": 20, \"quantity\": 100, \"MD\": \"12/8/2021\", \"ED\": \"20/10/2021\"}}'"
      ]
     },
     "execution_count": 9,
     "metadata": {},
     "output_type": "execute_result"
    }
   ],
   "source": [
    "txt"
   ]
  },
  {
   "cell_type": "code",
   "execution_count": 10,
   "id": "484447a5",
   "metadata": {},
   "outputs": [],
   "source": [
    "items = json.loads(txt)"
   ]
  },
  {
   "cell_type": "code",
   "execution_count": 11,
   "id": "a99282f9",
   "metadata": {},
   "outputs": [
    {
     "data": {
      "text/plain": [
       "{'1160': {'name': 'Mars',\n",
       "  'Price': 20,\n",
       "  'quantity': 100,\n",
       "  'MD': '12/8/2021',\n",
       "  'ED': '12/10/2021'},\n",
       " '1161': {'name': 'Cadbory',\n",
       "  'Price': 10,\n",
       "  'quantity': 100,\n",
       "  'MD': '12/8/2021',\n",
       "  'ED': '8/10/2021'},\n",
       " '1162': {'name': 'KiKat',\n",
       "  'Price': 15,\n",
       "  'quantity': 100,\n",
       "  'MD': '12/8/2021',\n",
       "  'ED': '12/10/2021'},\n",
       " '1163': {'name': 'FerreroRocher',\n",
       "  'Price': 100,\n",
       "  'quantity': 100,\n",
       "  'MD': '12/8/2021',\n",
       "  'ED': '12/11/2021'},\n",
       " '1164': {'name': 'Galaxy',\n",
       "  'Price': 20,\n",
       "  'quantity': 100,\n",
       "  'MD': '12/8/2021',\n",
       "  'ED': '12/10/2021'},\n",
       " '1165': {'name': 'Patachi',\n",
       "  'Price': 30,\n",
       "  'quantity': 100,\n",
       "  'MD': '12/8/2021',\n",
       "  'ED': '12/10/2021'},\n",
       " '1166': {'name': 'Ghirardelli',\n",
       "  'Price': 30,\n",
       "  'quantity': 100,\n",
       "  'MD': '12/8/2021',\n",
       "  'ED': '12/10/2021'},\n",
       " '1167': {'name': 'Lindt&Sprungli',\n",
       "  'Price': 25,\n",
       "  'quantity': 100,\n",
       "  'MD': '12/8/2021',\n",
       "  'ED': '12/10/2021'},\n",
       " '1168': {'name': 'Guylian',\n",
       "  'Price': 50,\n",
       "  'quantity': 100,\n",
       "  'MD': '12/8/2021',\n",
       "  'ED': '12/10/2021'},\n",
       " '1169': {'name': 'Toblerone',\n",
       "  'Price': 25,\n",
       "  'quantity': 100,\n",
       "  'MD': '12/8/2021',\n",
       "  'ED': '12/10/2021'},\n",
       " '1170': {'name': 'MilkyBar',\n",
       "  'Price': 10,\n",
       "  'quantity': 100,\n",
       "  'MD': '12/8/2021',\n",
       "  'ED': '12/9/2021'},\n",
       " '1171': {'name': 'GoodDay',\n",
       "  'Price': 20,\n",
       "  'quantity': 100,\n",
       "  'MD': '12/8/2021',\n",
       "  'ED': '12/12/2021'},\n",
       " '1172': {'name': 'MarieGold',\n",
       "  'Price': 20,\n",
       "  'quantity': 100,\n",
       "  'MD': '12/8/2021',\n",
       "  'ED': '12/12/2021'},\n",
       " '1173': {'name': 'ParleG',\n",
       "  'Price': 10,\n",
       "  'quantity': 100,\n",
       "  'MD': '12/8/2021',\n",
       "  'ED': '12/12/2021'},\n",
       " '1174': {'name': 'DarkFantacy',\n",
       "  'Price': 30,\n",
       "  'quantity': 100,\n",
       "  'MD': '12/8/2021',\n",
       "  'ED': '12/12/2021'},\n",
       " '1175': {'name': 'oreo',\n",
       "  'Price': 20,\n",
       "  'quantity': 100,\n",
       "  'MD': '12/8/2021',\n",
       "  'ED': '12/12/2021'},\n",
       " '1176': {'name': 'Burbon',\n",
       "  'Price': 20,\n",
       "  'quantity': 100,\n",
       "  'MD': '12/8/2021',\n",
       "  'ED': '12/10/2021'},\n",
       " '1177': {'name': 'twentyTwenty',\n",
       "  'Price': 20,\n",
       "  'quantity': 100,\n",
       "  'MD': '12/8/2021',\n",
       "  'ED': '12/10/2021'},\n",
       " '1178': {'name': 'FiftyFifty',\n",
       "  'Price': 20,\n",
       "  'quantity': 100,\n",
       "  'MD': '12/8/2021',\n",
       "  'ED': '12/10/2021'},\n",
       " '1179': {'name': 'Doodh',\n",
       "  'Price': 20,\n",
       "  'quantity': 100,\n",
       "  'MD': '12/8/2021',\n",
       "  'ED': '12/10/2021'},\n",
       " '1180': {'name': 'Digestive',\n",
       "  'Price': 20,\n",
       "  'quantity': 100,\n",
       "  'MD': '12/8/2021',\n",
       "  'ED': '12/11/2021'},\n",
       " '1181': {'name': 'Britania',\n",
       "  'Price': 20,\n",
       "  'quantity': 100,\n",
       "  'MD': '12/8/2021',\n",
       "  'ED': '12/12/2021'},\n",
       " '1183': {'name': 'Lays',\n",
       "  'Price': 10,\n",
       "  'quantity': 100,\n",
       "  'MD': '12/8/2021',\n",
       "  'ED': '12/12/2021'},\n",
       " '1184': {'name': 'Lays',\n",
       "  'Price': 5,\n",
       "  'quantity': 100,\n",
       "  'MD': '12/8/2021',\n",
       "  'ED': '12/12/2021'},\n",
       " '1185': {'name': 'KurKure',\n",
       "  'Price': 10,\n",
       "  'quantity': 100,\n",
       "  'MD': '12/8/2021',\n",
       "  'ED': '14/10/2021'},\n",
       " '1186': {'name': 'KurKure',\n",
       "  'Price': 5,\n",
       "  'quantity': 100,\n",
       "  'MD': '12/8/2021',\n",
       "  'ED': '12/10/2021'},\n",
       " '1187': {'name': 'Yumitos',\n",
       "  'Price': 10,\n",
       "  'quantity': 100,\n",
       "  'MD': '12/8/2021',\n",
       "  'ED': '10/10/2021'},\n",
       " '1188': {'name': 'Chitoos',\n",
       "  'Price': 10,\n",
       "  'quantity': 100,\n",
       "  'MD': '12/8/2021',\n",
       "  'ED': '30/10/2021'},\n",
       " '1189': {'name': 'Chitoos',\n",
       "  'Price': 20,\n",
       "  'quantity': 100,\n",
       "  'MD': '12/8/2021',\n",
       "  'ED': '10/10/2021'},\n",
       " '1190': {'name': 'Yummy',\n",
       "  'Price': 20,\n",
       "  'quantity': 100,\n",
       "  'MD': '12/8/2021',\n",
       "  'ED': '20/10/2021'}}"
      ]
     },
     "execution_count": 11,
     "metadata": {},
     "output_type": "execute_result"
    }
   ],
   "source": [
    "items"
   ]
  },
  {
   "cell_type": "markdown",
   "id": "c204dc81",
   "metadata": {},
   "source": [
    "##Adding items to File"
   ]
  },
  {
   "cell_type": "code",
   "execution_count": 12,
   "id": "0d979c21",
   "metadata": {},
   "outputs": [
    {
     "name": "stdout",
     "output_type": "stream",
     "text": [
      "enter the id of the product to add1920\n",
      "enter the name of productMacbook\n",
      "enter the price75000\n",
      "enter the quantity10\n",
      "enter the manufacturing date12/2/2019\n",
      "enter the Expire date12/2/3019\n",
      "{'name': 'Macbook', 'Price': 75000, 'quantity': 10, 'MD': '12/2/2019', 'ED': '12/2/3019'}\n"
     ]
    }
   ],
   "source": [
    "prod_id = input(\"enter the id of the product to add\")\n",
    "name =input(\"enter the name of product\")\n",
    "price = int(input(\"enter the price\"))\n",
    "qty = int(input(\"enter the quantity\"))\n",
    "MD = input(\"enter the manufacturing date\")\n",
    "ED = input(\"enter the Expire date\")\n",
    "\n",
    "items[prod_id] = { 'name' : name , 'Price' : price , 'quantity' : qty , 'MD' : MD , 'ED' : ED }\n",
    "print(items[prod_id])\n"
   ]
  },
  {
   "cell_type": "code",
   "execution_count": 14,
   "id": "d8b867f3",
   "metadata": {},
   "outputs": [],
   "source": [
    "\n",
    "js = json.dumps(items)\n",
    "\n",
    "fd = open(\"items.json\" , 'w')\n",
    "fd.write(js)\n",
    "fd.close()"
   ]
  },
  {
   "cell_type": "code",
   "execution_count": null,
   "id": "65a97d98",
   "metadata": {},
   "outputs": [],
   "source": []
  },
  {
   "cell_type": "code",
   "execution_count": null,
   "id": "9616beae",
   "metadata": {},
   "outputs": [],
   "source": []
  },
  {
   "cell_type": "code",
   "execution_count": null,
   "id": "ddd664b6",
   "metadata": {},
   "outputs": [],
   "source": []
  },
  {
   "cell_type": "code",
   "execution_count": null,
   "id": "881242f8",
   "metadata": {},
   "outputs": [],
   "source": []
  },
  {
   "cell_type": "code",
   "execution_count": null,
   "id": "befc08be",
   "metadata": {},
   "outputs": [],
   "source": []
  },
  {
   "cell_type": "code",
   "execution_count": null,
   "id": "9afcddcb",
   "metadata": {},
   "outputs": [],
   "source": []
  },
  {
   "cell_type": "code",
   "execution_count": null,
   "id": "7d30a5f8",
   "metadata": {},
   "outputs": [],
   "source": []
  },
  {
   "cell_type": "code",
   "execution_count": null,
   "id": "3c259f65",
   "metadata": {},
   "outputs": [],
   "source": []
  },
  {
   "cell_type": "code",
   "execution_count": null,
   "id": "f62daf4a",
   "metadata": {},
   "outputs": [],
   "source": []
  }
 ],
 "metadata": {
  "kernelspec": {
   "display_name": "Python 3",
   "language": "python",
   "name": "python3"
  },
  "language_info": {
   "codemirror_mode": {
    "name": "ipython",
    "version": 3
   },
   "file_extension": ".py",
   "mimetype": "text/x-python",
   "name": "python",
   "nbconvert_exporter": "python",
   "pygments_lexer": "ipython3",
   "version": "3.8.8"
  }
 },
 "nbformat": 4,
 "nbformat_minor": 5
}
