{
 "cells": [
  {
   "cell_type": "code",
   "execution_count": 1,
   "id": "f51dc6bb",
   "metadata": {},
   "outputs": [],
   "source": [
    "import json\n",
    "fd = open(\"items.json\" , 'r')\n",
    "items = fd.read()\n",
    "fd.close()"
   ]
  },
  {
   "cell_type": "code",
   "execution_count": null,
   "id": "fe3aa5f3",
   "metadata": {},
   "outputs": [],
   "source": []
  },
  {
   "cell_type": "code",
   "execution_count": null,
   "id": "0f0bfc83",
   "metadata": {},
   "outputs": [],
   "source": []
  },
  {
   "cell_type": "code",
   "execution_count": null,
   "id": "ac572735",
   "metadata": {},
   "outputs": [],
   "source": [
    "\n"
   ]
  },
  {
   "cell_type": "code",
   "execution_count": 2,
   "id": "b3a951de",
   "metadata": {},
   "outputs": [
    {
     "data": {
      "text/plain": [
       "'{\"1160\": {\"name\": \"Mars\", \"Price\": 20, \"quantity\": 100, \"MD\": \"12/8/2021\", \"ED\": \"12/10/2021\"}, \"1161\": {\"name\": \"Cadbory\", \"Price\": 10, \"quantity\": 100, \"MD\": \"12/8/2021\", \"ED\": \"8/10/2021\"}, \"1162\": {\"name\": \"KiKat\", \"Price\": 15, \"quantity\": 100, \"MD\": \"12/8/2021\", \"ED\": \"12/10/2021\"}, \"1163\": {\"name\": \"FerreroRocher\", \"Price\": 100, \"quantity\": 100, \"MD\": \"12/8/2021\", \"ED\": \"12/11/2021\"}, \"1164\": {\"name\": \"Galaxy\", \"Price\": 20, \"quantity\": 100, \"MD\": \"12/8/2021\", \"ED\": \"12/10/2021\"}, \"1165\": {\"name\": \"Patachi\", \"Price\": 30, \"quantity\": 100, \"MD\": \"12/8/2021\", \"ED\": \"12/10/2021\"}, \"1166\": {\"name\": \"Ghirardelli\", \"Price\": 30, \"quantity\": 100, \"MD\": \"12/8/2021\", \"ED\": \"12/10/2021\"}, \"1167\": {\"name\": \"Lindt&Sprungli\", \"Price\": 25, \"quantity\": 100, \"MD\": \"12/8/2021\", \"ED\": \"12/10/2021\"}, \"1168\": {\"name\": \"Guylian\", \"Price\": 50, \"quantity\": 100, \"MD\": \"12/8/2021\", \"ED\": \"12/10/2021\"}, \"1169\": {\"name\": \"Toblerone\", \"Price\": 25, \"quantity\": 100, \"MD\": \"12/8/2021\", \"ED\": \"12/10/2021\"}, \"1170\": {\"name\": \"MilkyBar\", \"Price\": 10, \"quantity\": 100, \"MD\": \"12/8/2021\", \"ED\": \"12/9/2021\"}, \"1171\": {\"name\": \"GoodDay\", \"Price\": 20, \"quantity\": 100, \"MD\": \"12/8/2021\", \"ED\": \"12/12/2021\"}, \"1172\": {\"name\": \"MarieGold\", \"Price\": 20, \"quantity\": 100, \"MD\": \"12/8/2021\", \"ED\": \"12/12/2021\"}, \"1173\": {\"name\": \"ParleG\", \"Price\": 10, \"quantity\": 100, \"MD\": \"12/8/2021\", \"ED\": \"12/12/2021\"}, \"1174\": {\"name\": \"DarkFantacy\", \"Price\": 30, \"quantity\": 100, \"MD\": \"12/8/2021\", \"ED\": \"12/12/2021\"}, \"1175\": {\"name\": \"oreo\", \"Price\": 20, \"quantity\": 100, \"MD\": \"12/8/2021\", \"ED\": \"12/12/2021\"}, \"1176\": {\"name\": \"Burbon\", \"Price\": 20, \"quantity\": 100, \"MD\": \"12/8/2021\", \"ED\": \"12/10/2021\"}, \"1177\": {\"name\": \"twentyTwenty\", \"Price\": 20, \"quantity\": 100, \"MD\": \"12/8/2021\", \"ED\": \"12/10/2021\"}, \"1178\": {\"name\": \"FiftyFifty\", \"Price\": 20, \"quantity\": 100, \"MD\": \"12/8/2021\", \"ED\": \"12/10/2021\"}, \"1179\": {\"name\": \"Doodh\", \"Price\": 20, \"quantity\": 100, \"MD\": \"12/8/2021\", \"ED\": \"12/10/2021\"}, \"1180\": {\"name\": \"Digestive\", \"Price\": 20, \"quantity\": 100, \"MD\": \"12/8/2021\", \"ED\": \"12/11/2021\"}, \"1181\": {\"name\": \"Britania\", \"Price\": 20, \"quantity\": 100, \"MD\": \"12/8/2021\", \"ED\": \"12/12/2021\"}, \"1183\": {\"name\": \"Lays\", \"Price\": 10, \"quantity\": 100, \"MD\": \"12/8/2021\", \"ED\": \"12/12/2021\"}, \"1184\": {\"name\": \"Lays\", \"Price\": 5, \"quantity\": 100, \"MD\": \"12/8/2021\", \"ED\": \"12/12/2021\"}, \"1185\": {\"name\": \"KurKure\", \"Price\": 10, \"quantity\": 100, \"MD\": \"12/8/2021\", \"ED\": \"14/10/2021\"}, \"1186\": {\"name\": \"KurKure\", \"Price\": 5, \"quantity\": 100, \"MD\": \"12/8/2021\", \"ED\": \"12/10/2021\"}, \"1187\": {\"name\": \"Yumitos\", \"Price\": 10, \"quantity\": 100, \"MD\": \"12/8/2021\", \"ED\": \"10/10/2021\"}, \"1188\": {\"name\": \"Chitoos\", \"Price\": 10, \"quantity\": 100, \"MD\": \"12/8/2021\", \"ED\": \"30/10/2021\"}, \"1189\": {\"name\": \"Chitoos\", \"Price\": 20, \"quantity\": 100, \"MD\": \"12/8/2021\", \"ED\": \"10/10/2021\"}, \"1190\": {\"name\": \"Yummy\", \"Price\": 20, \"quantity\": 89, \"MD\": \"12/8/2021\", \"ED\": \"20/10/2021\"}, \"1920\": {\"name\": \"Macbook\", \"Price\": 75000, \"quantity\": 9, \"MD\": \"12/2/2019\", \"ED\": \"12/2/3019\"}}'"
      ]
     },
     "execution_count": 2,
     "metadata": {},
     "output_type": "execute_result"
    }
   ],
   "source": [
    "items"
   ]
  },
  {
   "cell_type": "code",
   "execution_count": null,
   "id": "1065232c",
   "metadata": {},
   "outputs": [],
   "source": [
    "\n",
    "\n"
   ]
  },
  {
   "cell_type": "code",
   "execution_count": 3,
   "id": "788a6aca",
   "metadata": {},
   "outputs": [],
   "source": [
    "item = json.loads(items)\n",
    "\n"
   ]
  },
  {
   "cell_type": "code",
   "execution_count": 4,
   "id": "22f4efbe",
   "metadata": {},
   "outputs": [
    {
     "data": {
      "text/plain": [
       "{'1160': {'name': 'Mars',\n",
       "  'Price': 20,\n",
       "  'quantity': 100,\n",
       "  'MD': '12/8/2021',\n",
       "  'ED': '12/10/2021'},\n",
       " '1161': {'name': 'Cadbory',\n",
       "  'Price': 10,\n",
       "  'quantity': 100,\n",
       "  'MD': '12/8/2021',\n",
       "  'ED': '8/10/2021'},\n",
       " '1162': {'name': 'KiKat',\n",
       "  'Price': 15,\n",
       "  'quantity': 100,\n",
       "  'MD': '12/8/2021',\n",
       "  'ED': '12/10/2021'},\n",
       " '1163': {'name': 'FerreroRocher',\n",
       "  'Price': 100,\n",
       "  'quantity': 100,\n",
       "  'MD': '12/8/2021',\n",
       "  'ED': '12/11/2021'},\n",
       " '1164': {'name': 'Galaxy',\n",
       "  'Price': 20,\n",
       "  'quantity': 100,\n",
       "  'MD': '12/8/2021',\n",
       "  'ED': '12/10/2021'},\n",
       " '1165': {'name': 'Patachi',\n",
       "  'Price': 30,\n",
       "  'quantity': 100,\n",
       "  'MD': '12/8/2021',\n",
       "  'ED': '12/10/2021'},\n",
       " '1166': {'name': 'Ghirardelli',\n",
       "  'Price': 30,\n",
       "  'quantity': 100,\n",
       "  'MD': '12/8/2021',\n",
       "  'ED': '12/10/2021'},\n",
       " '1167': {'name': 'Lindt&Sprungli',\n",
       "  'Price': 25,\n",
       "  'quantity': 100,\n",
       "  'MD': '12/8/2021',\n",
       "  'ED': '12/10/2021'},\n",
       " '1168': {'name': 'Guylian',\n",
       "  'Price': 50,\n",
       "  'quantity': 100,\n",
       "  'MD': '12/8/2021',\n",
       "  'ED': '12/10/2021'},\n",
       " '1169': {'name': 'Toblerone',\n",
       "  'Price': 25,\n",
       "  'quantity': 100,\n",
       "  'MD': '12/8/2021',\n",
       "  'ED': '12/10/2021'},\n",
       " '1170': {'name': 'MilkyBar',\n",
       "  'Price': 10,\n",
       "  'quantity': 100,\n",
       "  'MD': '12/8/2021',\n",
       "  'ED': '12/9/2021'},\n",
       " '1171': {'name': 'GoodDay',\n",
       "  'Price': 20,\n",
       "  'quantity': 100,\n",
       "  'MD': '12/8/2021',\n",
       "  'ED': '12/12/2021'},\n",
       " '1172': {'name': 'MarieGold',\n",
       "  'Price': 20,\n",
       "  'quantity': 100,\n",
       "  'MD': '12/8/2021',\n",
       "  'ED': '12/12/2021'},\n",
       " '1173': {'name': 'ParleG',\n",
       "  'Price': 10,\n",
       "  'quantity': 100,\n",
       "  'MD': '12/8/2021',\n",
       "  'ED': '12/12/2021'},\n",
       " '1174': {'name': 'DarkFantacy',\n",
       "  'Price': 30,\n",
       "  'quantity': 100,\n",
       "  'MD': '12/8/2021',\n",
       "  'ED': '12/12/2021'},\n",
       " '1175': {'name': 'oreo',\n",
       "  'Price': 20,\n",
       "  'quantity': 100,\n",
       "  'MD': '12/8/2021',\n",
       "  'ED': '12/12/2021'},\n",
       " '1176': {'name': 'Burbon',\n",
       "  'Price': 20,\n",
       "  'quantity': 100,\n",
       "  'MD': '12/8/2021',\n",
       "  'ED': '12/10/2021'},\n",
       " '1177': {'name': 'twentyTwenty',\n",
       "  'Price': 20,\n",
       "  'quantity': 100,\n",
       "  'MD': '12/8/2021',\n",
       "  'ED': '12/10/2021'},\n",
       " '1178': {'name': 'FiftyFifty',\n",
       "  'Price': 20,\n",
       "  'quantity': 100,\n",
       "  'MD': '12/8/2021',\n",
       "  'ED': '12/10/2021'},\n",
       " '1179': {'name': 'Doodh',\n",
       "  'Price': 20,\n",
       "  'quantity': 100,\n",
       "  'MD': '12/8/2021',\n",
       "  'ED': '12/10/2021'},\n",
       " '1180': {'name': 'Digestive',\n",
       "  'Price': 20,\n",
       "  'quantity': 100,\n",
       "  'MD': '12/8/2021',\n",
       "  'ED': '12/11/2021'},\n",
       " '1181': {'name': 'Britania',\n",
       "  'Price': 20,\n",
       "  'quantity': 100,\n",
       "  'MD': '12/8/2021',\n",
       "  'ED': '12/12/2021'},\n",
       " '1183': {'name': 'Lays',\n",
       "  'Price': 10,\n",
       "  'quantity': 100,\n",
       "  'MD': '12/8/2021',\n",
       "  'ED': '12/12/2021'},\n",
       " '1184': {'name': 'Lays',\n",
       "  'Price': 5,\n",
       "  'quantity': 100,\n",
       "  'MD': '12/8/2021',\n",
       "  'ED': '12/12/2021'},\n",
       " '1185': {'name': 'KurKure',\n",
       "  'Price': 10,\n",
       "  'quantity': 100,\n",
       "  'MD': '12/8/2021',\n",
       "  'ED': '14/10/2021'},\n",
       " '1186': {'name': 'KurKure',\n",
       "  'Price': 5,\n",
       "  'quantity': 100,\n",
       "  'MD': '12/8/2021',\n",
       "  'ED': '12/10/2021'},\n",
       " '1187': {'name': 'Yumitos',\n",
       "  'Price': 10,\n",
       "  'quantity': 100,\n",
       "  'MD': '12/8/2021',\n",
       "  'ED': '10/10/2021'},\n",
       " '1188': {'name': 'Chitoos',\n",
       "  'Price': 10,\n",
       "  'quantity': 100,\n",
       "  'MD': '12/8/2021',\n",
       "  'ED': '30/10/2021'},\n",
       " '1189': {'name': 'Chitoos',\n",
       "  'Price': 20,\n",
       "  'quantity': 100,\n",
       "  'MD': '12/8/2021',\n",
       "  'ED': '10/10/2021'},\n",
       " '1190': {'name': 'Yummy',\n",
       "  'Price': 20,\n",
       "  'quantity': 89,\n",
       "  'MD': '12/8/2021',\n",
       "  'ED': '20/10/2021'},\n",
       " '1920': {'name': 'Macbook',\n",
       "  'Price': 75000,\n",
       "  'quantity': 9,\n",
       "  'MD': '12/2/2019',\n",
       "  'ED': '12/2/3019'}}"
      ]
     },
     "execution_count": 4,
     "metadata": {},
     "output_type": "execute_result"
    }
   ],
   "source": [
    "item"
   ]
  },
  {
   "cell_type": "code",
   "execution_count": 5,
   "id": "d892f2ba",
   "metadata": {},
   "outputs": [
    {
     "name": "stdout",
     "output_type": "stream",
     "text": [
      "Welcome to SUPER MARKET\n"
     ]
    }
   ],
   "source": [
    "print(\"Welcome to SUPER MARKET\")"
   ]
  },
  {
   "cell_type": "code",
   "execution_count": 6,
   "id": "78eaead1",
   "metadata": {},
   "outputs": [
    {
     "name": "stdout",
     "output_type": "stream",
     "text": [
      "\t||Product ID\t|| Item Name\t\t\t || Price||\t \t\t||Manufacture Date \t|| stock\n",
      "-*-*-*-*-*-*-*-*-*-*-*-*-*-*-*-*-*-*-*-*-*-*-*-*-*-*-*-*-*-*-*-*-*-*-*-*-*-*-*-*-*-*-*-*-*-*-*-*-*-*-*-*-*-*-*-*-*-*-*-*-*-*\n",
      "\t|| 1160 \t|| Mars                          || 20 ||\t\t\t 12/8/2021 \t\t\t 100\n",
      "\t|| 1161 \t|| Cadbory                       || 10 ||\t\t\t 12/8/2021 \t\t\t 100\n",
      "\t|| 1162 \t|| KiKat                         || 15 ||\t\t\t 12/8/2021 \t\t\t 100\n",
      "\t|| 1163 \t|| FerreroRocher                 || 100 ||\t\t\t 12/8/2021 \t\t\t 100\n",
      "\t|| 1164 \t|| Galaxy                        || 20 ||\t\t\t 12/8/2021 \t\t\t 100\n",
      "\t|| 1165 \t|| Patachi                       || 30 ||\t\t\t 12/8/2021 \t\t\t 100\n",
      "\t|| 1166 \t|| Ghirardelli                   || 30 ||\t\t\t 12/8/2021 \t\t\t 100\n",
      "\t|| 1167 \t|| Lindt&Sprungli                || 25 ||\t\t\t 12/8/2021 \t\t\t 100\n",
      "\t|| 1168 \t|| Guylian                       || 50 ||\t\t\t 12/8/2021 \t\t\t 100\n",
      "\t|| 1169 \t|| Toblerone                     || 25 ||\t\t\t 12/8/2021 \t\t\t 100\n",
      "\t|| 1170 \t|| MilkyBar                      || 10 ||\t\t\t 12/8/2021 \t\t\t 100\n",
      "\t|| 1171 \t|| GoodDay                       || 20 ||\t\t\t 12/8/2021 \t\t\t 100\n",
      "\t|| 1172 \t|| MarieGold                     || 20 ||\t\t\t 12/8/2021 \t\t\t 100\n",
      "\t|| 1173 \t|| ParleG                        || 10 ||\t\t\t 12/8/2021 \t\t\t 100\n",
      "\t|| 1174 \t|| DarkFantacy                   || 30 ||\t\t\t 12/8/2021 \t\t\t 100\n",
      "\t|| 1175 \t|| oreo                          || 20 ||\t\t\t 12/8/2021 \t\t\t 100\n",
      "\t|| 1176 \t|| Burbon                        || 20 ||\t\t\t 12/8/2021 \t\t\t 100\n",
      "\t|| 1177 \t|| twentyTwenty                  || 20 ||\t\t\t 12/8/2021 \t\t\t 100\n",
      "\t|| 1178 \t|| FiftyFifty                    || 20 ||\t\t\t 12/8/2021 \t\t\t 100\n",
      "\t|| 1179 \t|| Doodh                         || 20 ||\t\t\t 12/8/2021 \t\t\t 100\n",
      "\t|| 1180 \t|| Digestive                     || 20 ||\t\t\t 12/8/2021 \t\t\t 100\n",
      "\t|| 1181 \t|| Britania                      || 20 ||\t\t\t 12/8/2021 \t\t\t 100\n",
      "\t|| 1183 \t|| Lays                          || 10 ||\t\t\t 12/8/2021 \t\t\t 100\n",
      "\t|| 1184 \t|| Lays                          || 5 ||\t\t\t 12/8/2021 \t\t\t 100\n",
      "\t|| 1185 \t|| KurKure                       || 10 ||\t\t\t 12/8/2021 \t\t\t 100\n",
      "\t|| 1186 \t|| KurKure                       || 5 ||\t\t\t 12/8/2021 \t\t\t 100\n",
      "\t|| 1187 \t|| Yumitos                       || 10 ||\t\t\t 12/8/2021 \t\t\t 100\n",
      "\t|| 1188 \t|| Chitoos                       || 10 ||\t\t\t 12/8/2021 \t\t\t 100\n",
      "\t|| 1189 \t|| Chitoos                       || 20 ||\t\t\t 12/8/2021 \t\t\t 100\n",
      "\t|| 1190 \t|| Yummy                         || 20 ||\t\t\t 12/8/2021 \t\t\t 89\n",
      "\t|| 1920 \t|| Macbook                       || 75000 ||\t\t\t 12/2/2019 \t\t\t 9\n"
     ]
    }
   ],
   "source": [
    "print(\"\\t||Product ID\\t||\", \"Item Name\\t\\t\\t\", \"||\" ,\"Price||\\t\", \"\\t\\t||Manufacture Date\", \"\\t|| stock\")\n",
    "print('-*'*62)\n",
    "\n",
    "for i in item :\n",
    "    print(\"\\t||\", i, \"\\t||\" , item[i]['name'],(28-len(item[i][\"name\"]))*\" \" ,\"||\" , item[i]['Price'],\"||\\t\\t\\t\" ,item[i]['MD'] ,\"\\t\\t\\t\" ,item[i]['quantity'])"
   ]
  },
  {
   "cell_type": "markdown",
   "id": "ba660f0b",
   "metadata": {},
   "source": [
    "##Purchasing product"
   ]
  },
  {
   "cell_type": "code",
   "execution_count": 7,
   "id": "ff9b4d22",
   "metadata": {},
   "outputs": [
    {
     "name": "stdout",
     "output_type": "stream",
     "text": [
      "enter the product ID :1190\n",
      "enter the quantity of product : 1\n",
      "************************\n",
      "Product name :  Yummy\n",
      "Price :  20\n",
      "Required quantity 1\n",
      "========================\n",
      "Billing Amount :  20\n"
     ]
    }
   ],
   "source": [
    "ui_prod = input(\"enter the product ID :\")\n",
    "ui_qty = input(\"enter the quantity of product : \")\n",
    "\n",
    "print(\"************************\")\n",
    "print(\"Product name : \" , item[ui_prod]['name'])\n",
    "print(\"Price : \" , item[ui_prod]['Price'])\n",
    "print(\"Required quantity\" , int(ui_qty))\n",
    "print(\"========================\")\n",
    "print(\"Billing Amount : \" , item[ui_prod]['Price'] * int(ui_qty))\n",
    "\n",
    "\n",
    "item[ui_prod]['quantity'] = item[ui_prod]['quantity'] - int(ui_qty)"
   ]
  },
  {
   "cell_type": "code",
   "execution_count": 8,
   "id": "9fe54cf9",
   "metadata": {},
   "outputs": [
    {
     "data": {
      "text/plain": [
       "88"
      ]
     },
     "execution_count": 8,
     "metadata": {},
     "output_type": "execute_result"
    }
   ],
   "source": [
    "item[ui_prod]['quantity']"
   ]
  },
  {
   "cell_type": "code",
   "execution_count": 9,
   "id": "0be07923",
   "metadata": {},
   "outputs": [
    {
     "data": {
      "text/plain": [
       "{'1160': {'name': 'Mars',\n",
       "  'Price': 20,\n",
       "  'quantity': 100,\n",
       "  'MD': '12/8/2021',\n",
       "  'ED': '12/10/2021'},\n",
       " '1161': {'name': 'Cadbory',\n",
       "  'Price': 10,\n",
       "  'quantity': 100,\n",
       "  'MD': '12/8/2021',\n",
       "  'ED': '8/10/2021'},\n",
       " '1162': {'name': 'KiKat',\n",
       "  'Price': 15,\n",
       "  'quantity': 100,\n",
       "  'MD': '12/8/2021',\n",
       "  'ED': '12/10/2021'},\n",
       " '1163': {'name': 'FerreroRocher',\n",
       "  'Price': 100,\n",
       "  'quantity': 100,\n",
       "  'MD': '12/8/2021',\n",
       "  'ED': '12/11/2021'},\n",
       " '1164': {'name': 'Galaxy',\n",
       "  'Price': 20,\n",
       "  'quantity': 100,\n",
       "  'MD': '12/8/2021',\n",
       "  'ED': '12/10/2021'},\n",
       " '1165': {'name': 'Patachi',\n",
       "  'Price': 30,\n",
       "  'quantity': 100,\n",
       "  'MD': '12/8/2021',\n",
       "  'ED': '12/10/2021'},\n",
       " '1166': {'name': 'Ghirardelli',\n",
       "  'Price': 30,\n",
       "  'quantity': 100,\n",
       "  'MD': '12/8/2021',\n",
       "  'ED': '12/10/2021'},\n",
       " '1167': {'name': 'Lindt&Sprungli',\n",
       "  'Price': 25,\n",
       "  'quantity': 100,\n",
       "  'MD': '12/8/2021',\n",
       "  'ED': '12/10/2021'},\n",
       " '1168': {'name': 'Guylian',\n",
       "  'Price': 50,\n",
       "  'quantity': 100,\n",
       "  'MD': '12/8/2021',\n",
       "  'ED': '12/10/2021'},\n",
       " '1169': {'name': 'Toblerone',\n",
       "  'Price': 25,\n",
       "  'quantity': 100,\n",
       "  'MD': '12/8/2021',\n",
       "  'ED': '12/10/2021'},\n",
       " '1170': {'name': 'MilkyBar',\n",
       "  'Price': 10,\n",
       "  'quantity': 100,\n",
       "  'MD': '12/8/2021',\n",
       "  'ED': '12/9/2021'},\n",
       " '1171': {'name': 'GoodDay',\n",
       "  'Price': 20,\n",
       "  'quantity': 100,\n",
       "  'MD': '12/8/2021',\n",
       "  'ED': '12/12/2021'},\n",
       " '1172': {'name': 'MarieGold',\n",
       "  'Price': 20,\n",
       "  'quantity': 100,\n",
       "  'MD': '12/8/2021',\n",
       "  'ED': '12/12/2021'},\n",
       " '1173': {'name': 'ParleG',\n",
       "  'Price': 10,\n",
       "  'quantity': 100,\n",
       "  'MD': '12/8/2021',\n",
       "  'ED': '12/12/2021'},\n",
       " '1174': {'name': 'DarkFantacy',\n",
       "  'Price': 30,\n",
       "  'quantity': 100,\n",
       "  'MD': '12/8/2021',\n",
       "  'ED': '12/12/2021'},\n",
       " '1175': {'name': 'oreo',\n",
       "  'Price': 20,\n",
       "  'quantity': 100,\n",
       "  'MD': '12/8/2021',\n",
       "  'ED': '12/12/2021'},\n",
       " '1176': {'name': 'Burbon',\n",
       "  'Price': 20,\n",
       "  'quantity': 100,\n",
       "  'MD': '12/8/2021',\n",
       "  'ED': '12/10/2021'},\n",
       " '1177': {'name': 'twentyTwenty',\n",
       "  'Price': 20,\n",
       "  'quantity': 100,\n",
       "  'MD': '12/8/2021',\n",
       "  'ED': '12/10/2021'},\n",
       " '1178': {'name': 'FiftyFifty',\n",
       "  'Price': 20,\n",
       "  'quantity': 100,\n",
       "  'MD': '12/8/2021',\n",
       "  'ED': '12/10/2021'},\n",
       " '1179': {'name': 'Doodh',\n",
       "  'Price': 20,\n",
       "  'quantity': 100,\n",
       "  'MD': '12/8/2021',\n",
       "  'ED': '12/10/2021'},\n",
       " '1180': {'name': 'Digestive',\n",
       "  'Price': 20,\n",
       "  'quantity': 100,\n",
       "  'MD': '12/8/2021',\n",
       "  'ED': '12/11/2021'},\n",
       " '1181': {'name': 'Britania',\n",
       "  'Price': 20,\n",
       "  'quantity': 100,\n",
       "  'MD': '12/8/2021',\n",
       "  'ED': '12/12/2021'},\n",
       " '1183': {'name': 'Lays',\n",
       "  'Price': 10,\n",
       "  'quantity': 100,\n",
       "  'MD': '12/8/2021',\n",
       "  'ED': '12/12/2021'},\n",
       " '1184': {'name': 'Lays',\n",
       "  'Price': 5,\n",
       "  'quantity': 100,\n",
       "  'MD': '12/8/2021',\n",
       "  'ED': '12/12/2021'},\n",
       " '1185': {'name': 'KurKure',\n",
       "  'Price': 10,\n",
       "  'quantity': 100,\n",
       "  'MD': '12/8/2021',\n",
       "  'ED': '14/10/2021'},\n",
       " '1186': {'name': 'KurKure',\n",
       "  'Price': 5,\n",
       "  'quantity': 100,\n",
       "  'MD': '12/8/2021',\n",
       "  'ED': '12/10/2021'},\n",
       " '1187': {'name': 'Yumitos',\n",
       "  'Price': 10,\n",
       "  'quantity': 100,\n",
       "  'MD': '12/8/2021',\n",
       "  'ED': '10/10/2021'},\n",
       " '1188': {'name': 'Chitoos',\n",
       "  'Price': 10,\n",
       "  'quantity': 100,\n",
       "  'MD': '12/8/2021',\n",
       "  'ED': '30/10/2021'},\n",
       " '1189': {'name': 'Chitoos',\n",
       "  'Price': 20,\n",
       "  'quantity': 100,\n",
       "  'MD': '12/8/2021',\n",
       "  'ED': '10/10/2021'},\n",
       " '1190': {'name': 'Yummy',\n",
       "  'Price': 20,\n",
       "  'quantity': 88,\n",
       "  'MD': '12/8/2021',\n",
       "  'ED': '20/10/2021'},\n",
       " '1920': {'name': 'Macbook',\n",
       "  'Price': 75000,\n",
       "  'quantity': 9,\n",
       "  'MD': '12/2/2019',\n",
       "  'ED': '12/2/3019'}}"
      ]
     },
     "execution_count": 9,
     "metadata": {},
     "output_type": "execute_result"
    }
   ],
   "source": [
    "item"
   ]
  },
  {
   "cell_type": "code",
   "execution_count": null,
   "id": "988a6cde",
   "metadata": {},
   "outputs": [],
   "source": []
  },
  {
   "cell_type": "code",
   "execution_count": null,
   "id": "591e32dc",
   "metadata": {},
   "outputs": [],
   "source": []
  },
  {
   "cell_type": "markdown",
   "id": "67a5e853",
   "metadata": {},
   "source": [
    "##UPDATING INVENTORY AFTER PURCHASE"
   ]
  },
  {
   "cell_type": "code",
   "execution_count": 10,
   "id": "0b8e9a48",
   "metadata": {},
   "outputs": [],
   "source": [
    "\n",
    "js = json.dumps(item)\n",
    "\n",
    "fd = open(\"items.json\" , 'w')\n",
    "fd.write(js)\n",
    "fd.close()"
   ]
  },
  {
   "cell_type": "code",
   "execution_count": 11,
   "id": "7d50aacf",
   "metadata": {},
   "outputs": [
    {
     "data": {
      "text/plain": [
       "'{\"1160\": {\"name\": \"Mars\", \"Price\": 20, \"quantity\": 100, \"MD\": \"12/8/2021\", \"ED\": \"12/10/2021\"}, \"1161\": {\"name\": \"Cadbory\", \"Price\": 10, \"quantity\": 100, \"MD\": \"12/8/2021\", \"ED\": \"8/10/2021\"}, \"1162\": {\"name\": \"KiKat\", \"Price\": 15, \"quantity\": 100, \"MD\": \"12/8/2021\", \"ED\": \"12/10/2021\"}, \"1163\": {\"name\": \"FerreroRocher\", \"Price\": 100, \"quantity\": 100, \"MD\": \"12/8/2021\", \"ED\": \"12/11/2021\"}, \"1164\": {\"name\": \"Galaxy\", \"Price\": 20, \"quantity\": 100, \"MD\": \"12/8/2021\", \"ED\": \"12/10/2021\"}, \"1165\": {\"name\": \"Patachi\", \"Price\": 30, \"quantity\": 100, \"MD\": \"12/8/2021\", \"ED\": \"12/10/2021\"}, \"1166\": {\"name\": \"Ghirardelli\", \"Price\": 30, \"quantity\": 100, \"MD\": \"12/8/2021\", \"ED\": \"12/10/2021\"}, \"1167\": {\"name\": \"Lindt&Sprungli\", \"Price\": 25, \"quantity\": 100, \"MD\": \"12/8/2021\", \"ED\": \"12/10/2021\"}, \"1168\": {\"name\": \"Guylian\", \"Price\": 50, \"quantity\": 100, \"MD\": \"12/8/2021\", \"ED\": \"12/10/2021\"}, \"1169\": {\"name\": \"Toblerone\", \"Price\": 25, \"quantity\": 100, \"MD\": \"12/8/2021\", \"ED\": \"12/10/2021\"}, \"1170\": {\"name\": \"MilkyBar\", \"Price\": 10, \"quantity\": 100, \"MD\": \"12/8/2021\", \"ED\": \"12/9/2021\"}, \"1171\": {\"name\": \"GoodDay\", \"Price\": 20, \"quantity\": 100, \"MD\": \"12/8/2021\", \"ED\": \"12/12/2021\"}, \"1172\": {\"name\": \"MarieGold\", \"Price\": 20, \"quantity\": 100, \"MD\": \"12/8/2021\", \"ED\": \"12/12/2021\"}, \"1173\": {\"name\": \"ParleG\", \"Price\": 10, \"quantity\": 100, \"MD\": \"12/8/2021\", \"ED\": \"12/12/2021\"}, \"1174\": {\"name\": \"DarkFantacy\", \"Price\": 30, \"quantity\": 100, \"MD\": \"12/8/2021\", \"ED\": \"12/12/2021\"}, \"1175\": {\"name\": \"oreo\", \"Price\": 20, \"quantity\": 100, \"MD\": \"12/8/2021\", \"ED\": \"12/12/2021\"}, \"1176\": {\"name\": \"Burbon\", \"Price\": 20, \"quantity\": 100, \"MD\": \"12/8/2021\", \"ED\": \"12/10/2021\"}, \"1177\": {\"name\": \"twentyTwenty\", \"Price\": 20, \"quantity\": 100, \"MD\": \"12/8/2021\", \"ED\": \"12/10/2021\"}, \"1178\": {\"name\": \"FiftyFifty\", \"Price\": 20, \"quantity\": 100, \"MD\": \"12/8/2021\", \"ED\": \"12/10/2021\"}, \"1179\": {\"name\": \"Doodh\", \"Price\": 20, \"quantity\": 100, \"MD\": \"12/8/2021\", \"ED\": \"12/10/2021\"}, \"1180\": {\"name\": \"Digestive\", \"Price\": 20, \"quantity\": 100, \"MD\": \"12/8/2021\", \"ED\": \"12/11/2021\"}, \"1181\": {\"name\": \"Britania\", \"Price\": 20, \"quantity\": 100, \"MD\": \"12/8/2021\", \"ED\": \"12/12/2021\"}, \"1183\": {\"name\": \"Lays\", \"Price\": 10, \"quantity\": 100, \"MD\": \"12/8/2021\", \"ED\": \"12/12/2021\"}, \"1184\": {\"name\": \"Lays\", \"Price\": 5, \"quantity\": 100, \"MD\": \"12/8/2021\", \"ED\": \"12/12/2021\"}, \"1185\": {\"name\": \"KurKure\", \"Price\": 10, \"quantity\": 100, \"MD\": \"12/8/2021\", \"ED\": \"14/10/2021\"}, \"1186\": {\"name\": \"KurKure\", \"Price\": 5, \"quantity\": 100, \"MD\": \"12/8/2021\", \"ED\": \"12/10/2021\"}, \"1187\": {\"name\": \"Yumitos\", \"Price\": 10, \"quantity\": 100, \"MD\": \"12/8/2021\", \"ED\": \"10/10/2021\"}, \"1188\": {\"name\": \"Chitoos\", \"Price\": 10, \"quantity\": 100, \"MD\": \"12/8/2021\", \"ED\": \"30/10/2021\"}, \"1189\": {\"name\": \"Chitoos\", \"Price\": 20, \"quantity\": 100, \"MD\": \"12/8/2021\", \"ED\": \"10/10/2021\"}, \"1190\": {\"name\": \"Yummy\", \"Price\": 20, \"quantity\": 89, \"MD\": \"12/8/2021\", \"ED\": \"20/10/2021\"}, \"1920\": {\"name\": \"Macbook\", \"Price\": 75000, \"quantity\": 9, \"MD\": \"12/2/2019\", \"ED\": \"12/2/3019\"}}'"
      ]
     },
     "execution_count": 11,
     "metadata": {},
     "output_type": "execute_result"
    }
   ],
   "source": [
    "items"
   ]
  },
  {
   "cell_type": "code",
   "execution_count": null,
   "id": "5add6f0d",
   "metadata": {},
   "outputs": [],
   "source": []
  },
  {
   "cell_type": "markdown",
   "id": "9c798bb0",
   "metadata": {},
   "source": [
    "##Creating JSON file for Purchasig History"
   ]
  },
  {
   "cell_type": "code",
   "execution_count": 12,
   "id": "aec2d7af",
   "metadata": {},
   "outputs": [],
   "source": [
    "import json"
   ]
  },
  {
   "cell_type": "code",
   "execution_count": null,
   "id": "ccef0195",
   "metadata": {},
   "outputs": [],
   "source": []
  },
  {
   "cell_type": "code",
   "execution_count": 13,
   "id": "8b399b35",
   "metadata": {},
   "outputs": [],
   "source": [
    "fd = open(\"sales.json\" , \"r\")\n",
    "txt = fd.read()\n",
    "fd.close()\n"
   ]
  },
  {
   "cell_type": "code",
   "execution_count": 14,
   "id": "059a6f24",
   "metadata": {},
   "outputs": [
    {
     "data": {
      "text/plain": [
       "'{\"1\": {\"product\": \"1920\", \"quantity\": \"1\", \"amount\": 75000}}'"
      ]
     },
     "execution_count": 14,
     "metadata": {},
     "output_type": "execute_result"
    }
   ],
   "source": [
    "txt"
   ]
  },
  {
   "cell_type": "code",
   "execution_count": null,
   "id": "451ff279",
   "metadata": {},
   "outputs": [],
   "source": []
  },
  {
   "cell_type": "code",
   "execution_count": null,
   "id": "9f62a2d8",
   "metadata": {},
   "outputs": [],
   "source": []
  },
  {
   "cell_type": "code",
   "execution_count": null,
   "id": "7ff4c2ab",
   "metadata": {},
   "outputs": [],
   "source": []
  },
  {
   "cell_type": "code",
   "execution_count": null,
   "id": "c926beb7",
   "metadata": {},
   "outputs": [],
   "source": []
  },
  {
   "cell_type": "code",
   "execution_count": null,
   "id": "1ac24068",
   "metadata": {},
   "outputs": [],
   "source": []
  },
  {
   "cell_type": "code",
   "execution_count": null,
   "id": "95f83ee2",
   "metadata": {},
   "outputs": [],
   "source": []
  },
  {
   "cell_type": "code",
   "execution_count": 26,
   "id": "e2a72296",
   "metadata": {},
   "outputs": [
    {
     "data": {
      "text/plain": [
       "{'product': '1190', 'quantity': '1', 'amount': 20}"
      ]
     },
     "execution_count": 26,
     "metadata": {},
     "output_type": "execute_result"
    }
   ],
   "source": [
    "\n",
    "{'product' : ui_prod , 'quantity' : ui_qty , 'amount' : item[ui_prod]['Price'] * int(ui_qty) }\n"
   ]
  },
  {
   "cell_type": "code",
   "execution_count": 27,
   "id": "7d3a02a3",
   "metadata": {},
   "outputs": [],
   "source": [
    "\n",
    "purchase = { 1: {'product' : ui_prod , 'quantity' : ui_qty , 'amount' : item[ui_prod]['Price'] * int(ui_qty) } }\n"
   ]
  },
  {
   "cell_type": "code",
   "execution_count": 28,
   "id": "2d5a78ee",
   "metadata": {},
   "outputs": [
    {
     "data": {
      "text/plain": [
       "{1: {'product': '1190', 'quantity': '1', 'amount': 20}}"
      ]
     },
     "execution_count": 28,
     "metadata": {},
     "output_type": "execute_result"
    }
   ],
   "source": [
    "purchase"
   ]
  },
  {
   "cell_type": "code",
   "execution_count": 29,
   "id": "f9dd73c7",
   "metadata": {},
   "outputs": [],
   "source": [
    "js = json.dumps(purchase)"
   ]
  },
  {
   "cell_type": "code",
   "execution_count": 30,
   "id": "a0836238",
   "metadata": {},
   "outputs": [
    {
     "data": {
      "text/plain": [
       "'{\"1\": {\"product\": \"1190\", \"quantity\": \"1\", \"amount\": 20}}'"
      ]
     },
     "execution_count": 30,
     "metadata": {},
     "output_type": "execute_result"
    }
   ],
   "source": [
    "js"
   ]
  },
  {
   "cell_type": "code",
   "execution_count": 31,
   "id": "abd40336",
   "metadata": {},
   "outputs": [],
   "source": [
    "\n",
    "fd = open(\"sales.json\" , \"w\")\n",
    "fd.write(js)\n",
    "fd.close()"
   ]
  },
  {
   "cell_type": "code",
   "execution_count": null,
   "id": "9208d9e8",
   "metadata": {},
   "outputs": [],
   "source": []
  },
  {
   "cell_type": "code",
   "execution_count": null,
   "id": "628c7324",
   "metadata": {},
   "outputs": [],
   "source": []
  },
  {
   "cell_type": "code",
   "execution_count": null,
   "id": "f6759778",
   "metadata": {},
   "outputs": [],
   "source": []
  },
  {
   "cell_type": "code",
   "execution_count": null,
   "id": "2d11f9df",
   "metadata": {},
   "outputs": [],
   "source": []
  },
  {
   "cell_type": "code",
   "execution_count": null,
   "id": "5366ca75",
   "metadata": {},
   "outputs": [],
   "source": []
  }
 ],
 "metadata": {
  "kernelspec": {
   "display_name": "Python 3",
   "language": "python",
   "name": "python3"
  },
  "language_info": {
   "codemirror_mode": {
    "name": "ipython",
    "version": 3
   },
   "file_extension": ".py",
   "mimetype": "text/x-python",
   "name": "python",
   "nbconvert_exporter": "python",
   "pygments_lexer": "ipython3",
   "version": "3.8.8"
  }
 },
 "nbformat": 4,
 "nbformat_minor": 5
}
