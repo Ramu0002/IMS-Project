{
 "cells": [
  {
   "cell_type": "code",
   "execution_count": 1,
   "id": "f51dc6bb",
   "metadata": {},
   "outputs": [],
   "source": [
    "import json\n",
    "fd = open(\"items.json\" , 'r')\n",
    "items = fd.read()\n",
    "fd.close()"
   ]
  },
  {
   "cell_type": "code",
   "execution_count": 2,
   "id": "b3a951de",
   "metadata": {},
   "outputs": [
    {
     "data": {
      "text/plain": [
       "'{\"1160\": {\"name\": \"Mars\", \"Price\": 20, \"quantity\": 100, \"MD\": \"12/8/2021\", \"ED\": \"12/10/2021\"}, \"1161\": {\"name\": \"Cadbory\", \"Price\": 10, \"quantity\": 100, \"MD\": \"12/8/2021\", \"ED\": \"8/10/2021\"}, \"1162\": {\"name\": \"KiKat\", \"Price\": 15, \"quantity\": 100, \"MD\": \"12/8/2021\", \"ED\": \"12/10/2021\"}, \"1163\": {\"name\": \"FerreroRocher\", \"Price\": 100, \"quantity\": 100, \"MD\": \"12/8/2021\", \"ED\": \"12/11/2021\"}, \"1164\": {\"name\": \"Galaxy\", \"Price\": 20, \"quantity\": 100, \"MD\": \"12/8/2021\", \"ED\": \"12/10/2021\"}, \"1165\": {\"name\": \"Patachi\", \"Price\": 30, \"quantity\": 100, \"MD\": \"12/8/2021\", \"ED\": \"12/10/2021\"}, \"1166\": {\"name\": \"Ghirardelli\", \"Price\": 30, \"quantity\": 100, \"MD\": \"12/8/2021\", \"ED\": \"12/10/2021\"}, \"1167\": {\"name\": \"Lindt&Sprungli\", \"Price\": 25, \"quantity\": 100, \"MD\": \"12/8/2021\", \"ED\": \"12/10/2021\"}, \"1168\": {\"name\": \"Guylian\", \"Price\": 50, \"quantity\": 100, \"MD\": \"12/8/2021\", \"ED\": \"12/10/2021\"}, \"1169\": {\"name\": \"Toblerone\", \"Price\": 25, \"quantity\": 100, \"MD\": \"12/8/2021\", \"ED\": \"12/10/2021\"}, \"1170\": {\"name\": \"MilkyBar\", \"Price\": 10, \"quantity\": 100, \"MD\": \"12/8/2021\", \"ED\": \"12/9/2021\"}, \"1171\": {\"name\": \"GoodDay\", \"Price\": 20, \"quantity\": 100, \"MD\": \"12/8/2021\", \"ED\": \"12/12/2021\"}, \"1172\": {\"name\": \"MarieGold\", \"Price\": 20, \"quantity\": 100, \"MD\": \"12/8/2021\", \"ED\": \"12/12/2021\"}, \"1173\": {\"name\": \"ParleG\", \"Price\": 10, \"quantity\": 100, \"MD\": \"12/8/2021\", \"ED\": \"12/12/2021\"}, \"1174\": {\"name\": \"DarkFantacy\", \"Price\": 30, \"quantity\": 100, \"MD\": \"12/8/2021\", \"ED\": \"12/12/2021\"}, \"1175\": {\"name\": \"oreo\", \"Price\": 20, \"quantity\": 100, \"MD\": \"12/8/2021\", \"ED\": \"12/12/2021\"}, \"1176\": {\"name\": \"Burbon\", \"Price\": 20, \"quantity\": 100, \"MD\": \"12/8/2021\", \"ED\": \"12/10/2021\"}, \"1177\": {\"name\": \"twentyTwenty\", \"Price\": 20, \"quantity\": 100, \"MD\": \"12/8/2021\", \"ED\": \"12/10/2021\"}, \"1178\": {\"name\": \"FiftyFifty\", \"Price\": 20, \"quantity\": 100, \"MD\": \"12/8/2021\", \"ED\": \"12/10/2021\"}, \"1179\": {\"name\": \"Doodh\", \"Price\": 20, \"quantity\": 100, \"MD\": \"12/8/2021\", \"ED\": \"12/10/2021\"}, \"1180\": {\"name\": \"Digestive\", \"Price\": 20, \"quantity\": 100, \"MD\": \"12/8/2021\", \"ED\": \"12/11/2021\"}, \"1181\": {\"name\": \"Britania\", \"Price\": 20, \"quantity\": 100, \"MD\": \"12/8/2021\", \"ED\": \"12/12/2021\"}, \"1183\": {\"name\": \"Lays\", \"Price\": 10, \"quantity\": 100, \"MD\": \"12/8/2021\", \"ED\": \"12/12/2021\"}, \"1184\": {\"name\": \"Lays\", \"Price\": 5, \"quantity\": 100, \"MD\": \"12/8/2021\", \"ED\": \"12/12/2021\"}, \"1185\": {\"name\": \"KurKure\", \"Price\": 10, \"quantity\": 100, \"MD\": \"12/8/2021\", \"ED\": \"14/10/2021\"}, \"1186\": {\"name\": \"KurKure\", \"Price\": 5, \"quantity\": 100, \"MD\": \"12/8/2021\", \"ED\": \"12/10/2021\"}, \"1187\": {\"name\": \"Yumitos\", \"Price\": 10, \"quantity\": 100, \"MD\": \"12/8/2021\", \"ED\": \"10/10/2021\"}, \"1188\": {\"name\": \"Chitoos\", \"Price\": 10, \"quantity\": 100, \"MD\": \"12/8/2021\", \"ED\": \"30/10/2021\"}, \"1189\": {\"name\": \"Chitoos\", \"Price\": 20, \"quantity\": 100, \"MD\": \"12/8/2021\", \"ED\": \"10/10/2021\"}, \"1190\": {\"name\": \"Yummy\", \"Price\": 20, \"quantity\": 100, \"MD\": \"12/8/2021\", \"ED\": \"20/10/2021\"}, \"1920\": {\"name\": \"Macbook\", \"Price\": 75000, \"quantity\": 10, \"MD\": \"12/2/2019\", \"ED\": \"12/2/3019\"}}'"
      ]
     },
     "execution_count": 2,
     "metadata": {},
     "output_type": "execute_result"
    }
   ],
   "source": [
    "items"
   ]
  },
  {
   "cell_type": "code",
   "execution_count": null,
   "id": "1065232c",
   "metadata": {},
   "outputs": [],
   "source": [
    "\n",
    "\n"
   ]
  },
  {
   "cell_type": "code",
   "execution_count": 3,
   "id": "788a6aca",
   "metadata": {},
   "outputs": [],
   "source": [
    "item = json.loads(items)\n",
    "\n"
   ]
  },
  {
   "cell_type": "code",
   "execution_count": 4,
   "id": "22f4efbe",
   "metadata": {},
   "outputs": [
    {
     "data": {
      "text/plain": [
       "{'1160': {'name': 'Mars',\n",
       "  'Price': 20,\n",
       "  'quantity': 100,\n",
       "  'MD': '12/8/2021',\n",
       "  'ED': '12/10/2021'},\n",
       " '1161': {'name': 'Cadbory',\n",
       "  'Price': 10,\n",
       "  'quantity': 100,\n",
       "  'MD': '12/8/2021',\n",
       "  'ED': '8/10/2021'},\n",
       " '1162': {'name': 'KiKat',\n",
       "  'Price': 15,\n",
       "  'quantity': 100,\n",
       "  'MD': '12/8/2021',\n",
       "  'ED': '12/10/2021'},\n",
       " '1163': {'name': 'FerreroRocher',\n",
       "  'Price': 100,\n",
       "  'quantity': 100,\n",
       "  'MD': '12/8/2021',\n",
       "  'ED': '12/11/2021'},\n",
       " '1164': {'name': 'Galaxy',\n",
       "  'Price': 20,\n",
       "  'quantity': 100,\n",
       "  'MD': '12/8/2021',\n",
       "  'ED': '12/10/2021'},\n",
       " '1165': {'name': 'Patachi',\n",
       "  'Price': 30,\n",
       "  'quantity': 100,\n",
       "  'MD': '12/8/2021',\n",
       "  'ED': '12/10/2021'},\n",
       " '1166': {'name': 'Ghirardelli',\n",
       "  'Price': 30,\n",
       "  'quantity': 100,\n",
       "  'MD': '12/8/2021',\n",
       "  'ED': '12/10/2021'},\n",
       " '1167': {'name': 'Lindt&Sprungli',\n",
       "  'Price': 25,\n",
       "  'quantity': 100,\n",
       "  'MD': '12/8/2021',\n",
       "  'ED': '12/10/2021'},\n",
       " '1168': {'name': 'Guylian',\n",
       "  'Price': 50,\n",
       "  'quantity': 100,\n",
       "  'MD': '12/8/2021',\n",
       "  'ED': '12/10/2021'},\n",
       " '1169': {'name': 'Toblerone',\n",
       "  'Price': 25,\n",
       "  'quantity': 100,\n",
       "  'MD': '12/8/2021',\n",
       "  'ED': '12/10/2021'},\n",
       " '1170': {'name': 'MilkyBar',\n",
       "  'Price': 10,\n",
       "  'quantity': 100,\n",
       "  'MD': '12/8/2021',\n",
       "  'ED': '12/9/2021'},\n",
       " '1171': {'name': 'GoodDay',\n",
       "  'Price': 20,\n",
       "  'quantity': 100,\n",
       "  'MD': '12/8/2021',\n",
       "  'ED': '12/12/2021'},\n",
       " '1172': {'name': 'MarieGold',\n",
       "  'Price': 20,\n",
       "  'quantity': 100,\n",
       "  'MD': '12/8/2021',\n",
       "  'ED': '12/12/2021'},\n",
       " '1173': {'name': 'ParleG',\n",
       "  'Price': 10,\n",
       "  'quantity': 100,\n",
       "  'MD': '12/8/2021',\n",
       "  'ED': '12/12/2021'},\n",
       " '1174': {'name': 'DarkFantacy',\n",
       "  'Price': 30,\n",
       "  'quantity': 100,\n",
       "  'MD': '12/8/2021',\n",
       "  'ED': '12/12/2021'},\n",
       " '1175': {'name': 'oreo',\n",
       "  'Price': 20,\n",
       "  'quantity': 100,\n",
       "  'MD': '12/8/2021',\n",
       "  'ED': '12/12/2021'},\n",
       " '1176': {'name': 'Burbon',\n",
       "  'Price': 20,\n",
       "  'quantity': 100,\n",
       "  'MD': '12/8/2021',\n",
       "  'ED': '12/10/2021'},\n",
       " '1177': {'name': 'twentyTwenty',\n",
       "  'Price': 20,\n",
       "  'quantity': 100,\n",
       "  'MD': '12/8/2021',\n",
       "  'ED': '12/10/2021'},\n",
       " '1178': {'name': 'FiftyFifty',\n",
       "  'Price': 20,\n",
       "  'quantity': 100,\n",
       "  'MD': '12/8/2021',\n",
       "  'ED': '12/10/2021'},\n",
       " '1179': {'name': 'Doodh',\n",
       "  'Price': 20,\n",
       "  'quantity': 100,\n",
       "  'MD': '12/8/2021',\n",
       "  'ED': '12/10/2021'},\n",
       " '1180': {'name': 'Digestive',\n",
       "  'Price': 20,\n",
       "  'quantity': 100,\n",
       "  'MD': '12/8/2021',\n",
       "  'ED': '12/11/2021'},\n",
       " '1181': {'name': 'Britania',\n",
       "  'Price': 20,\n",
       "  'quantity': 100,\n",
       "  'MD': '12/8/2021',\n",
       "  'ED': '12/12/2021'},\n",
       " '1183': {'name': 'Lays',\n",
       "  'Price': 10,\n",
       "  'quantity': 100,\n",
       "  'MD': '12/8/2021',\n",
       "  'ED': '12/12/2021'},\n",
       " '1184': {'name': 'Lays',\n",
       "  'Price': 5,\n",
       "  'quantity': 100,\n",
       "  'MD': '12/8/2021',\n",
       "  'ED': '12/12/2021'},\n",
       " '1185': {'name': 'KurKure',\n",
       "  'Price': 10,\n",
       "  'quantity': 100,\n",
       "  'MD': '12/8/2021',\n",
       "  'ED': '14/10/2021'},\n",
       " '1186': {'name': 'KurKure',\n",
       "  'Price': 5,\n",
       "  'quantity': 100,\n",
       "  'MD': '12/8/2021',\n",
       "  'ED': '12/10/2021'},\n",
       " '1187': {'name': 'Yumitos',\n",
       "  'Price': 10,\n",
       "  'quantity': 100,\n",
       "  'MD': '12/8/2021',\n",
       "  'ED': '10/10/2021'},\n",
       " '1188': {'name': 'Chitoos',\n",
       "  'Price': 10,\n",
       "  'quantity': 100,\n",
       "  'MD': '12/8/2021',\n",
       "  'ED': '30/10/2021'},\n",
       " '1189': {'name': 'Chitoos',\n",
       "  'Price': 20,\n",
       "  'quantity': 100,\n",
       "  'MD': '12/8/2021',\n",
       "  'ED': '10/10/2021'},\n",
       " '1190': {'name': 'Yummy',\n",
       "  'Price': 20,\n",
       "  'quantity': 100,\n",
       "  'MD': '12/8/2021',\n",
       "  'ED': '20/10/2021'},\n",
       " '1920': {'name': 'Macbook',\n",
       "  'Price': 75000,\n",
       "  'quantity': 10,\n",
       "  'MD': '12/2/2019',\n",
       "  'ED': '12/2/3019'}}"
      ]
     },
     "execution_count": 4,
     "metadata": {},
     "output_type": "execute_result"
    }
   ],
   "source": [
    "item"
   ]
  },
  {
   "cell_type": "markdown",
   "id": "ba660f0b",
   "metadata": {},
   "source": [
    "##Purchasing product"
   ]
  },
  {
   "cell_type": "code",
   "execution_count": 5,
   "id": "ff9b4d22",
   "metadata": {},
   "outputs": [
    {
     "name": "stdout",
     "output_type": "stream",
     "text": [
      "enter the product ID :1920\n",
      "enter the quantity of product : 1\n",
      "************************\n",
      "Product name :  Macbook\n",
      "Price :  75000\n",
      "Required quantity 1\n",
      "========================\n",
      "Billing Amount :  75000\n"
     ]
    }
   ],
   "source": [
    "ui_prod = input(\"enter the product ID :\")\n",
    "ui_qty = input(\"enter the quantity of product : \")\n",
    "\n",
    "print(\"************************\")\n",
    "print(\"Product name : \" , item[ui_prod]['name'])\n",
    "print(\"Price : \" , item[ui_prod]['Price'])\n",
    "print(\"Required quantity\" , int(ui_qty))\n",
    "print(\"========================\")\n",
    "print(\"Billing Amount : \" , item[ui_prod]['Price'] * int(ui_qty))\n",
    "\n",
    "\n",
    "item[ui_prod]['quantity'] = item[ui_prod]['quantity'] - int(ui_qty)"
   ]
  },
  {
   "cell_type": "code",
   "execution_count": 6,
   "id": "9fe54cf9",
   "metadata": {},
   "outputs": [
    {
     "data": {
      "text/plain": [
       "9"
      ]
     },
     "execution_count": 6,
     "metadata": {},
     "output_type": "execute_result"
    }
   ],
   "source": [
    "item[ui_prod]['quantity']"
   ]
  },
  {
   "cell_type": "code",
   "execution_count": 7,
   "id": "0be07923",
   "metadata": {},
   "outputs": [
    {
     "data": {
      "text/plain": [
       "{'1160': {'name': 'Mars',\n",
       "  'Price': 20,\n",
       "  'quantity': 100,\n",
       "  'MD': '12/8/2021',\n",
       "  'ED': '12/10/2021'},\n",
       " '1161': {'name': 'Cadbory',\n",
       "  'Price': 10,\n",
       "  'quantity': 100,\n",
       "  'MD': '12/8/2021',\n",
       "  'ED': '8/10/2021'},\n",
       " '1162': {'name': 'KiKat',\n",
       "  'Price': 15,\n",
       "  'quantity': 100,\n",
       "  'MD': '12/8/2021',\n",
       "  'ED': '12/10/2021'},\n",
       " '1163': {'name': 'FerreroRocher',\n",
       "  'Price': 100,\n",
       "  'quantity': 100,\n",
       "  'MD': '12/8/2021',\n",
       "  'ED': '12/11/2021'},\n",
       " '1164': {'name': 'Galaxy',\n",
       "  'Price': 20,\n",
       "  'quantity': 100,\n",
       "  'MD': '12/8/2021',\n",
       "  'ED': '12/10/2021'},\n",
       " '1165': {'name': 'Patachi',\n",
       "  'Price': 30,\n",
       "  'quantity': 100,\n",
       "  'MD': '12/8/2021',\n",
       "  'ED': '12/10/2021'},\n",
       " '1166': {'name': 'Ghirardelli',\n",
       "  'Price': 30,\n",
       "  'quantity': 100,\n",
       "  'MD': '12/8/2021',\n",
       "  'ED': '12/10/2021'},\n",
       " '1167': {'name': 'Lindt&Sprungli',\n",
       "  'Price': 25,\n",
       "  'quantity': 100,\n",
       "  'MD': '12/8/2021',\n",
       "  'ED': '12/10/2021'},\n",
       " '1168': {'name': 'Guylian',\n",
       "  'Price': 50,\n",
       "  'quantity': 100,\n",
       "  'MD': '12/8/2021',\n",
       "  'ED': '12/10/2021'},\n",
       " '1169': {'name': 'Toblerone',\n",
       "  'Price': 25,\n",
       "  'quantity': 100,\n",
       "  'MD': '12/8/2021',\n",
       "  'ED': '12/10/2021'},\n",
       " '1170': {'name': 'MilkyBar',\n",
       "  'Price': 10,\n",
       "  'quantity': 100,\n",
       "  'MD': '12/8/2021',\n",
       "  'ED': '12/9/2021'},\n",
       " '1171': {'name': 'GoodDay',\n",
       "  'Price': 20,\n",
       "  'quantity': 100,\n",
       "  'MD': '12/8/2021',\n",
       "  'ED': '12/12/2021'},\n",
       " '1172': {'name': 'MarieGold',\n",
       "  'Price': 20,\n",
       "  'quantity': 100,\n",
       "  'MD': '12/8/2021',\n",
       "  'ED': '12/12/2021'},\n",
       " '1173': {'name': 'ParleG',\n",
       "  'Price': 10,\n",
       "  'quantity': 100,\n",
       "  'MD': '12/8/2021',\n",
       "  'ED': '12/12/2021'},\n",
       " '1174': {'name': 'DarkFantacy',\n",
       "  'Price': 30,\n",
       "  'quantity': 100,\n",
       "  'MD': '12/8/2021',\n",
       "  'ED': '12/12/2021'},\n",
       " '1175': {'name': 'oreo',\n",
       "  'Price': 20,\n",
       "  'quantity': 100,\n",
       "  'MD': '12/8/2021',\n",
       "  'ED': '12/12/2021'},\n",
       " '1176': {'name': 'Burbon',\n",
       "  'Price': 20,\n",
       "  'quantity': 100,\n",
       "  'MD': '12/8/2021',\n",
       "  'ED': '12/10/2021'},\n",
       " '1177': {'name': 'twentyTwenty',\n",
       "  'Price': 20,\n",
       "  'quantity': 100,\n",
       "  'MD': '12/8/2021',\n",
       "  'ED': '12/10/2021'},\n",
       " '1178': {'name': 'FiftyFifty',\n",
       "  'Price': 20,\n",
       "  'quantity': 100,\n",
       "  'MD': '12/8/2021',\n",
       "  'ED': '12/10/2021'},\n",
       " '1179': {'name': 'Doodh',\n",
       "  'Price': 20,\n",
       "  'quantity': 100,\n",
       "  'MD': '12/8/2021',\n",
       "  'ED': '12/10/2021'},\n",
       " '1180': {'name': 'Digestive',\n",
       "  'Price': 20,\n",
       "  'quantity': 100,\n",
       "  'MD': '12/8/2021',\n",
       "  'ED': '12/11/2021'},\n",
       " '1181': {'name': 'Britania',\n",
       "  'Price': 20,\n",
       "  'quantity': 100,\n",
       "  'MD': '12/8/2021',\n",
       "  'ED': '12/12/2021'},\n",
       " '1183': {'name': 'Lays',\n",
       "  'Price': 10,\n",
       "  'quantity': 100,\n",
       "  'MD': '12/8/2021',\n",
       "  'ED': '12/12/2021'},\n",
       " '1184': {'name': 'Lays',\n",
       "  'Price': 5,\n",
       "  'quantity': 100,\n",
       "  'MD': '12/8/2021',\n",
       "  'ED': '12/12/2021'},\n",
       " '1185': {'name': 'KurKure',\n",
       "  'Price': 10,\n",
       "  'quantity': 100,\n",
       "  'MD': '12/8/2021',\n",
       "  'ED': '14/10/2021'},\n",
       " '1186': {'name': 'KurKure',\n",
       "  'Price': 5,\n",
       "  'quantity': 100,\n",
       "  'MD': '12/8/2021',\n",
       "  'ED': '12/10/2021'},\n",
       " '1187': {'name': 'Yumitos',\n",
       "  'Price': 10,\n",
       "  'quantity': 100,\n",
       "  'MD': '12/8/2021',\n",
       "  'ED': '10/10/2021'},\n",
       " '1188': {'name': 'Chitoos',\n",
       "  'Price': 10,\n",
       "  'quantity': 100,\n",
       "  'MD': '12/8/2021',\n",
       "  'ED': '30/10/2021'},\n",
       " '1189': {'name': 'Chitoos',\n",
       "  'Price': 20,\n",
       "  'quantity': 100,\n",
       "  'MD': '12/8/2021',\n",
       "  'ED': '10/10/2021'},\n",
       " '1190': {'name': 'Yummy',\n",
       "  'Price': 20,\n",
       "  'quantity': 100,\n",
       "  'MD': '12/8/2021',\n",
       "  'ED': '20/10/2021'},\n",
       " '1920': {'name': 'Macbook',\n",
       "  'Price': 75000,\n",
       "  'quantity': 9,\n",
       "  'MD': '12/2/2019',\n",
       "  'ED': '12/2/3019'}}"
      ]
     },
     "execution_count": 7,
     "metadata": {},
     "output_type": "execute_result"
    }
   ],
   "source": [
    "item"
   ]
  },
  {
   "cell_type": "code",
   "execution_count": null,
   "id": "988a6cde",
   "metadata": {},
   "outputs": [],
   "source": []
  },
  {
   "cell_type": "code",
   "execution_count": null,
   "id": "591e32dc",
   "metadata": {},
   "outputs": [],
   "source": []
  },
  {
   "cell_type": "markdown",
   "id": "67a5e853",
   "metadata": {},
   "source": [
    "##UPDATING INVENTORY AFTER PURCHASE"
   ]
  },
  {
   "cell_type": "code",
   "execution_count": 21,
   "id": "0b8e9a48",
   "metadata": {},
   "outputs": [],
   "source": [
    "\n",
    "js = json.dumps(item)\n",
    "\n",
    "fd = open(\"items.json\" , 'w')\n",
    "fd.write(js)\n",
    "fd.close()"
   ]
  },
  {
   "cell_type": "code",
   "execution_count": 22,
   "id": "7d50aacf",
   "metadata": {},
   "outputs": [
    {
     "data": {
      "text/plain": [
       "'{\"1160\": {\"name\": \"Mars\", \"Price\": 20, \"quantity\": 100, \"MD\": \"12/8/2021\", \"ED\": \"12/10/2021\"}, \"1161\": {\"name\": \"Cadbory\", \"Price\": 10, \"quantity\": 100, \"MD\": \"12/8/2021\", \"ED\": \"8/10/2021\"}, \"1162\": {\"name\": \"KiKat\", \"Price\": 15, \"quantity\": 100, \"MD\": \"12/8/2021\", \"ED\": \"12/10/2021\"}, \"1163\": {\"name\": \"FerreroRocher\", \"Price\": 100, \"quantity\": 100, \"MD\": \"12/8/2021\", \"ED\": \"12/11/2021\"}, \"1164\": {\"name\": \"Galaxy\", \"Price\": 20, \"quantity\": 100, \"MD\": \"12/8/2021\", \"ED\": \"12/10/2021\"}, \"1165\": {\"name\": \"Patachi\", \"Price\": 30, \"quantity\": 100, \"MD\": \"12/8/2021\", \"ED\": \"12/10/2021\"}, \"1166\": {\"name\": \"Ghirardelli\", \"Price\": 30, \"quantity\": 100, \"MD\": \"12/8/2021\", \"ED\": \"12/10/2021\"}, \"1167\": {\"name\": \"Lindt&Sprungli\", \"Price\": 25, \"quantity\": 100, \"MD\": \"12/8/2021\", \"ED\": \"12/10/2021\"}, \"1168\": {\"name\": \"Guylian\", \"Price\": 50, \"quantity\": 100, \"MD\": \"12/8/2021\", \"ED\": \"12/10/2021\"}, \"1169\": {\"name\": \"Toblerone\", \"Price\": 25, \"quantity\": 100, \"MD\": \"12/8/2021\", \"ED\": \"12/10/2021\"}, \"1170\": {\"name\": \"MilkyBar\", \"Price\": 10, \"quantity\": 100, \"MD\": \"12/8/2021\", \"ED\": \"12/9/2021\"}, \"1171\": {\"name\": \"GoodDay\", \"Price\": 20, \"quantity\": 100, \"MD\": \"12/8/2021\", \"ED\": \"12/12/2021\"}, \"1172\": {\"name\": \"MarieGold\", \"Price\": 20, \"quantity\": 100, \"MD\": \"12/8/2021\", \"ED\": \"12/12/2021\"}, \"1173\": {\"name\": \"ParleG\", \"Price\": 10, \"quantity\": 100, \"MD\": \"12/8/2021\", \"ED\": \"12/12/2021\"}, \"1174\": {\"name\": \"DarkFantacy\", \"Price\": 30, \"quantity\": 100, \"MD\": \"12/8/2021\", \"ED\": \"12/12/2021\"}, \"1175\": {\"name\": \"oreo\", \"Price\": 20, \"quantity\": 100, \"MD\": \"12/8/2021\", \"ED\": \"12/12/2021\"}, \"1176\": {\"name\": \"Burbon\", \"Price\": 20, \"quantity\": 100, \"MD\": \"12/8/2021\", \"ED\": \"12/10/2021\"}, \"1177\": {\"name\": \"twentyTwenty\", \"Price\": 20, \"quantity\": 100, \"MD\": \"12/8/2021\", \"ED\": \"12/10/2021\"}, \"1178\": {\"name\": \"FiftyFifty\", \"Price\": 20, \"quantity\": 100, \"MD\": \"12/8/2021\", \"ED\": \"12/10/2021\"}, \"1179\": {\"name\": \"Doodh\", \"Price\": 20, \"quantity\": 100, \"MD\": \"12/8/2021\", \"ED\": \"12/10/2021\"}, \"1180\": {\"name\": \"Digestive\", \"Price\": 20, \"quantity\": 100, \"MD\": \"12/8/2021\", \"ED\": \"12/11/2021\"}, \"1181\": {\"name\": \"Britania\", \"Price\": 20, \"quantity\": 100, \"MD\": \"12/8/2021\", \"ED\": \"12/12/2021\"}, \"1183\": {\"name\": \"Lays\", \"Price\": 10, \"quantity\": 100, \"MD\": \"12/8/2021\", \"ED\": \"12/12/2021\"}, \"1184\": {\"name\": \"Lays\", \"Price\": 5, \"quantity\": 100, \"MD\": \"12/8/2021\", \"ED\": \"12/12/2021\"}, \"1185\": {\"name\": \"KurKure\", \"Price\": 10, \"quantity\": 100, \"MD\": \"12/8/2021\", \"ED\": \"14/10/2021\"}, \"1186\": {\"name\": \"KurKure\", \"Price\": 5, \"quantity\": 100, \"MD\": \"12/8/2021\", \"ED\": \"12/10/2021\"}, \"1187\": {\"name\": \"Yumitos\", \"Price\": 10, \"quantity\": 100, \"MD\": \"12/8/2021\", \"ED\": \"10/10/2021\"}, \"1188\": {\"name\": \"Chitoos\", \"Price\": 10, \"quantity\": 100, \"MD\": \"12/8/2021\", \"ED\": \"30/10/2021\"}, \"1189\": {\"name\": \"Chitoos\", \"Price\": 20, \"quantity\": 100, \"MD\": \"12/8/2021\", \"ED\": \"10/10/2021\"}, \"1190\": {\"name\": \"Yummy\", \"Price\": 20, \"quantity\": 100, \"MD\": \"12/8/2021\", \"ED\": \"20/10/2021\"}, \"1920\": {\"name\": \"Macbook\", \"Price\": 75000, \"quantity\": 10, \"MD\": \"12/2/2019\", \"ED\": \"12/2/3019\"}}'"
      ]
     },
     "execution_count": 22,
     "metadata": {},
     "output_type": "execute_result"
    }
   ],
   "source": [
    "items"
   ]
  },
  {
   "cell_type": "code",
   "execution_count": null,
   "id": "5add6f0d",
   "metadata": {},
   "outputs": [],
   "source": []
  },
  {
   "cell_type": "markdown",
   "id": "9c798bb0",
   "metadata": {},
   "source": [
    "##Creating JSON file for Purchasig History"
   ]
  },
  {
   "cell_type": "code",
   "execution_count": 23,
   "id": "aec2d7af",
   "metadata": {},
   "outputs": [],
   "source": [
    "import json"
   ]
  },
  {
   "cell_type": "code",
   "execution_count": 24,
   "id": "8b399b35",
   "metadata": {},
   "outputs": [],
   "source": [
    "fd = open(\"sales.json\" , \"r\")\n",
    "txt = fd.read()\n",
    "fd.close()\n"
   ]
  },
  {
   "cell_type": "code",
   "execution_count": 25,
   "id": "059a6f24",
   "metadata": {},
   "outputs": [
    {
     "data": {
      "text/plain": [
       "'{\"1\": {\"product\": \"1920\", \"quantity\": \"1\", \"amount\": 75000}}'"
      ]
     },
     "execution_count": 25,
     "metadata": {},
     "output_type": "execute_result"
    }
   ],
   "source": [
    "txt"
   ]
  },
  {
   "cell_type": "code",
   "execution_count": 26,
   "id": "451ff279",
   "metadata": {},
   "outputs": [],
   "source": [
    "sales = json.loads(txt)"
   ]
  },
  {
   "cell_type": "code",
   "execution_count": null,
   "id": "9f62a2d8",
   "metadata": {},
   "outputs": [],
   "source": []
  },
  {
   "cell_type": "code",
   "execution_count": 27,
   "id": "7ff4c2ab",
   "metadata": {},
   "outputs": [
    {
     "data": {
      "text/plain": [
       "{'1': {'product': '1920', 'quantity': '1', 'amount': 75000}}"
      ]
     },
     "execution_count": 27,
     "metadata": {},
     "output_type": "execute_result"
    }
   ],
   "source": [
    "sales"
   ]
  },
  {
   "cell_type": "code",
   "execution_count": 28,
   "id": "e2a72296",
   "metadata": {},
   "outputs": [
    {
     "data": {
      "text/plain": [
       "{'product': '1920', 'quantity': '1', 'amount': 75000}"
      ]
     },
     "execution_count": 28,
     "metadata": {},
     "output_type": "execute_result"
    }
   ],
   "source": [
    "\n",
    "{'product' : ui_prod , 'quantity' : ui_qty , 'amount' : item[ui_prod]['Price'] * int(ui_qty) }\n"
   ]
  },
  {
   "cell_type": "code",
   "execution_count": 29,
   "id": "7d3a02a3",
   "metadata": {},
   "outputs": [],
   "source": [
    "\n",
    "purchase = { 1: {'product' : ui_prod , 'quantity' : ui_qty , 'amount' : item[ui_prod]['Price'] * int(ui_qty) } }\n"
   ]
  },
  {
   "cell_type": "code",
   "execution_count": 30,
   "id": "2d5a78ee",
   "metadata": {},
   "outputs": [
    {
     "data": {
      "text/plain": [
       "{1: {'product': '1920', 'quantity': '1', 'amount': 75000}}"
      ]
     },
     "execution_count": 30,
     "metadata": {},
     "output_type": "execute_result"
    }
   ],
   "source": [
    "purchase"
   ]
  },
  {
   "cell_type": "code",
   "execution_count": 31,
   "id": "f9dd73c7",
   "metadata": {},
   "outputs": [],
   "source": [
    "js = json.dumps(purchase)"
   ]
  },
  {
   "cell_type": "code",
   "execution_count": 32,
   "id": "a0836238",
   "metadata": {},
   "outputs": [
    {
     "data": {
      "text/plain": [
       "'{\"1\": {\"product\": \"1920\", \"quantity\": \"1\", \"amount\": 75000}}'"
      ]
     },
     "execution_count": 32,
     "metadata": {},
     "output_type": "execute_result"
    }
   ],
   "source": [
    "js"
   ]
  },
  {
   "cell_type": "code",
   "execution_count": 33,
   "id": "abd40336",
   "metadata": {},
   "outputs": [],
   "source": [
    "\n",
    "fd = open(\"sales.json\" , \"w\")\n",
    "fd.write(js)\n",
    "fd.close()"
   ]
  },
  {
   "cell_type": "code",
   "execution_count": null,
   "id": "9208d9e8",
   "metadata": {},
   "outputs": [],
   "source": []
  },
  {
   "cell_type": "code",
   "execution_count": null,
   "id": "628c7324",
   "metadata": {},
   "outputs": [],
   "source": []
  },
  {
   "cell_type": "code",
   "execution_count": null,
   "id": "f6759778",
   "metadata": {},
   "outputs": [],
   "source": []
  },
  {
   "cell_type": "code",
   "execution_count": null,
   "id": "2d11f9df",
   "metadata": {},
   "outputs": [],
   "source": []
  },
  {
   "cell_type": "code",
   "execution_count": null,
   "id": "5366ca75",
   "metadata": {},
   "outputs": [],
   "source": []
  }
 ],
 "metadata": {
  "kernelspec": {
   "display_name": "Python 3",
   "language": "python",
   "name": "python3"
  },
  "language_info": {
   "codemirror_mode": {
    "name": "ipython",
    "version": 3
   },
   "file_extension": ".py",
   "mimetype": "text/x-python",
   "name": "python",
   "nbconvert_exporter": "python",
   "pygments_lexer": "ipython3",
   "version": "3.8.8"
  }
 },
 "nbformat": 4,
 "nbformat_minor": 5
}
